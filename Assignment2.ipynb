{
  "nbformat": 4,
  "nbformat_minor": 0,
  "metadata": {
    "colab": {
      "provenance": [],
      "collapsed_sections": [
        "wrcVfxw4NHLr",
        "Ge07e3BXe9QM",
        "pNsHkz0ZgS3E",
        "WVsmuRFGgiSS"
      ]
    },
    "kernelspec": {
      "name": "python3",
      "display_name": "Python 3"
    },
    "language_info": {
      "name": "python"
    }
  },
  "cells": [
    {
      "cell_type": "markdown",
      "source": [
        "# Assignment No.2\n",
        "\n",
        "---\n",
        "Use Methods of Python Datatypes (Objects) int, float, complex, list, tuple, str, set, dict, bool\n",
        "Hint: help()\n"
      ],
      "metadata": {
        "id": "v2HYEi9mK8Vz"
      }
    },
    {
      "cell_type": "markdown",
      "source": [
        "# int"
      ],
      "metadata": {
        "id": "Hsj6iZG7Qy99"
      }
    },
    {
      "cell_type": "markdown",
      "source": [
        "# help(int)"
      ],
      "metadata": {
        "id": "xnE66xG2RnrD"
      }
    },
    {
      "cell_type": "code",
      "source": [
        "help(int)"
      ],
      "metadata": {
        "colab": {
          "base_uri": "https://localhost:8080/"
        },
        "id": "uRc-kppDQ401",
        "outputId": "867966f4-c4c3-454c-c328-9e1dbfe4d53f"
      },
      "execution_count": 1,
      "outputs": [
        {
          "output_type": "stream",
          "name": "stdout",
          "text": [
            "Help on class int in module builtins:\n",
            "\n",
            "class int(object)\n",
            " |  int([x]) -> integer\n",
            " |  int(x, base=10) -> integer\n",
            " |  \n",
            " |  Convert a number or string to an integer, or return 0 if no arguments\n",
            " |  are given.  If x is a number, return x.__int__().  For floating point\n",
            " |  numbers, this truncates towards zero.\n",
            " |  \n",
            " |  If x is not a number or if base is given, then x must be a string,\n",
            " |  bytes, or bytearray instance representing an integer literal in the\n",
            " |  given base.  The literal can be preceded by '+' or '-' and be surrounded\n",
            " |  by whitespace.  The base defaults to 10.  Valid bases are 0 and 2-36.\n",
            " |  Base 0 means to interpret the base from the string as an integer literal.\n",
            " |  >>> int('0b100', base=0)\n",
            " |  4\n",
            " |  \n",
            " |  Built-in subclasses:\n",
            " |      bool\n",
            " |  \n",
            " |  Methods defined here:\n",
            " |  \n",
            " |  __abs__(self, /)\n",
            " |      abs(self)\n",
            " |  \n",
            " |  __add__(self, value, /)\n",
            " |      Return self+value.\n",
            " |  \n",
            " |  __and__(self, value, /)\n",
            " |      Return self&value.\n",
            " |  \n",
            " |  __bool__(self, /)\n",
            " |      True if self else False\n",
            " |  \n",
            " |  __ceil__(...)\n",
            " |      Ceiling of an Integral returns itself.\n",
            " |  \n",
            " |  __divmod__(self, value, /)\n",
            " |      Return divmod(self, value).\n",
            " |  \n",
            " |  __eq__(self, value, /)\n",
            " |      Return self==value.\n",
            " |  \n",
            " |  __float__(self, /)\n",
            " |      float(self)\n",
            " |  \n",
            " |  __floor__(...)\n",
            " |      Flooring an Integral returns itself.\n",
            " |  \n",
            " |  __floordiv__(self, value, /)\n",
            " |      Return self//value.\n",
            " |  \n",
            " |  __format__(self, format_spec, /)\n",
            " |      Default object formatter.\n",
            " |  \n",
            " |  __ge__(self, value, /)\n",
            " |      Return self>=value.\n",
            " |  \n",
            " |  __getattribute__(self, name, /)\n",
            " |      Return getattr(self, name).\n",
            " |  \n",
            " |  __getnewargs__(self, /)\n",
            " |  \n",
            " |  __gt__(self, value, /)\n",
            " |      Return self>value.\n",
            " |  \n",
            " |  __hash__(self, /)\n",
            " |      Return hash(self).\n",
            " |  \n",
            " |  __index__(self, /)\n",
            " |      Return self converted to an integer, if self is suitable for use as an index into a list.\n",
            " |  \n",
            " |  __int__(self, /)\n",
            " |      int(self)\n",
            " |  \n",
            " |  __invert__(self, /)\n",
            " |      ~self\n",
            " |  \n",
            " |  __le__(self, value, /)\n",
            " |      Return self<=value.\n",
            " |  \n",
            " |  __lshift__(self, value, /)\n",
            " |      Return self<<value.\n",
            " |  \n",
            " |  __lt__(self, value, /)\n",
            " |      Return self<value.\n",
            " |  \n",
            " |  __mod__(self, value, /)\n",
            " |      Return self%value.\n",
            " |  \n",
            " |  __mul__(self, value, /)\n",
            " |      Return self*value.\n",
            " |  \n",
            " |  __ne__(self, value, /)\n",
            " |      Return self!=value.\n",
            " |  \n",
            " |  __neg__(self, /)\n",
            " |      -self\n",
            " |  \n",
            " |  __or__(self, value, /)\n",
            " |      Return self|value.\n",
            " |  \n",
            " |  __pos__(self, /)\n",
            " |      +self\n",
            " |  \n",
            " |  __pow__(self, value, mod=None, /)\n",
            " |      Return pow(self, value, mod).\n",
            " |  \n",
            " |  __radd__(self, value, /)\n",
            " |      Return value+self.\n",
            " |  \n",
            " |  __rand__(self, value, /)\n",
            " |      Return value&self.\n",
            " |  \n",
            " |  __rdivmod__(self, value, /)\n",
            " |      Return divmod(value, self).\n",
            " |  \n",
            " |  __repr__(self, /)\n",
            " |      Return repr(self).\n",
            " |  \n",
            " |  __rfloordiv__(self, value, /)\n",
            " |      Return value//self.\n",
            " |  \n",
            " |  __rlshift__(self, value, /)\n",
            " |      Return value<<self.\n",
            " |  \n",
            " |  __rmod__(self, value, /)\n",
            " |      Return value%self.\n",
            " |  \n",
            " |  __rmul__(self, value, /)\n",
            " |      Return value*self.\n",
            " |  \n",
            " |  __ror__(self, value, /)\n",
            " |      Return value|self.\n",
            " |  \n",
            " |  __round__(...)\n",
            " |      Rounding an Integral returns itself.\n",
            " |      \n",
            " |      Rounding with an ndigits argument also returns an integer.\n",
            " |  \n",
            " |  __rpow__(self, value, mod=None, /)\n",
            " |      Return pow(value, self, mod).\n",
            " |  \n",
            " |  __rrshift__(self, value, /)\n",
            " |      Return value>>self.\n",
            " |  \n",
            " |  __rshift__(self, value, /)\n",
            " |      Return self>>value.\n",
            " |  \n",
            " |  __rsub__(self, value, /)\n",
            " |      Return value-self.\n",
            " |  \n",
            " |  __rtruediv__(self, value, /)\n",
            " |      Return value/self.\n",
            " |  \n",
            " |  __rxor__(self, value, /)\n",
            " |      Return value^self.\n",
            " |  \n",
            " |  __sizeof__(self, /)\n",
            " |      Returns size in memory, in bytes.\n",
            " |  \n",
            " |  __sub__(self, value, /)\n",
            " |      Return self-value.\n",
            " |  \n",
            " |  __truediv__(self, value, /)\n",
            " |      Return self/value.\n",
            " |  \n",
            " |  __trunc__(...)\n",
            " |      Truncating an Integral returns itself.\n",
            " |  \n",
            " |  __xor__(self, value, /)\n",
            " |      Return self^value.\n",
            " |  \n",
            " |  as_integer_ratio(self, /)\n",
            " |      Return integer ratio.\n",
            " |      \n",
            " |      Return a pair of integers, whose ratio is exactly equal to the original int\n",
            " |      and with a positive denominator.\n",
            " |      \n",
            " |      >>> (10).as_integer_ratio()\n",
            " |      (10, 1)\n",
            " |      >>> (-10).as_integer_ratio()\n",
            " |      (-10, 1)\n",
            " |      >>> (0).as_integer_ratio()\n",
            " |      (0, 1)\n",
            " |  \n",
            " |  bit_count(self, /)\n",
            " |      Number of ones in the binary representation of the absolute value of self.\n",
            " |      \n",
            " |      Also known as the population count.\n",
            " |      \n",
            " |      >>> bin(13)\n",
            " |      '0b1101'\n",
            " |      >>> (13).bit_count()\n",
            " |      3\n",
            " |  \n",
            " |  bit_length(self, /)\n",
            " |      Number of bits necessary to represent self in binary.\n",
            " |      \n",
            " |      >>> bin(37)\n",
            " |      '0b100101'\n",
            " |      >>> (37).bit_length()\n",
            " |      6\n",
            " |  \n",
            " |  conjugate(...)\n",
            " |      Returns self, the complex conjugate of any int.\n",
            " |  \n",
            " |  to_bytes(self, /, length=1, byteorder='big', *, signed=False)\n",
            " |      Return an array of bytes representing an integer.\n",
            " |      \n",
            " |      length\n",
            " |        Length of bytes object to use.  An OverflowError is raised if the\n",
            " |        integer is not representable with the given number of bytes.  Default\n",
            " |        is length 1.\n",
            " |      byteorder\n",
            " |        The byte order used to represent the integer.  If byteorder is 'big',\n",
            " |        the most significant byte is at the beginning of the byte array.  If\n",
            " |        byteorder is 'little', the most significant byte is at the end of the\n",
            " |        byte array.  To request the native byte order of the host system, use\n",
            " |        `sys.byteorder' as the byte order value.  Default is to use 'big'.\n",
            " |      signed\n",
            " |        Determines whether two's complement is used to represent the integer.\n",
            " |        If signed is False and a negative integer is given, an OverflowError\n",
            " |        is raised.\n",
            " |  \n",
            " |  ----------------------------------------------------------------------\n",
            " |  Class methods defined here:\n",
            " |  \n",
            " |  from_bytes(bytes, byteorder='big', *, signed=False)\n",
            " |      Return the integer represented by the given array of bytes.\n",
            " |      \n",
            " |      bytes\n",
            " |        Holds the array of bytes to convert.  The argument must either\n",
            " |        support the buffer protocol or be an iterable object producing bytes.\n",
            " |        Bytes and bytearray are examples of built-in objects that support the\n",
            " |        buffer protocol.\n",
            " |      byteorder\n",
            " |        The byte order used to represent the integer.  If byteorder is 'big',\n",
            " |        the most significant byte is at the beginning of the byte array.  If\n",
            " |        byteorder is 'little', the most significant byte is at the end of the\n",
            " |        byte array.  To request the native byte order of the host system, use\n",
            " |        `sys.byteorder' as the byte order value.  Default is to use 'big'.\n",
            " |      signed\n",
            " |        Indicates whether two's complement is used to represent the integer.\n",
            " |  \n",
            " |  ----------------------------------------------------------------------\n",
            " |  Static methods defined here:\n",
            " |  \n",
            " |  __new__(*args, **kwargs)\n",
            " |      Create and return a new object.  See help(type) for accurate signature.\n",
            " |  \n",
            " |  ----------------------------------------------------------------------\n",
            " |  Data descriptors defined here:\n",
            " |  \n",
            " |  denominator\n",
            " |      the denominator of a rational number in lowest terms\n",
            " |  \n",
            " |  imag\n",
            " |      the imaginary part of a complex number\n",
            " |  \n",
            " |  numerator\n",
            " |      the numerator of a rational number in lowest terms\n",
            " |  \n",
            " |  real\n",
            " |      the real part of a complex number\n",
            "\n"
          ]
        }
      ]
    },
    {
      "cell_type": "markdown",
      "source": [
        "# as_integer_ratio(self, /)\n",
        "       Return integer ratio.\n",
        "       \n",
        "       Return a pair of integers, whose ratio is exactly equal to the original int\n",
        "       and with a positive denominator.\n",
        "       \n",
        "       >>> (10).as_integer_ratio()\n",
        "       (10, 1)\n",
        "       >>> (-10).as_integer_ratio()\n",
        "       (-10, 1)\n",
        "       >>> (0).as_integer_ratio()\n",
        "       (0, 1)"
      ],
      "metadata": {
        "id": "pfj4ZlTCRgh_"
      }
    },
    {
      "cell_type": "code",
      "source": [
        "(20).as_integer_ratio()"
      ],
      "metadata": {
        "colab": {
          "base_uri": "https://localhost:8080/"
        },
        "outputId": "45db1fcb-61aa-41a7-eee1-165b4c00c5ee",
        "id": "YJGzWiauRgiA"
      },
      "execution_count": null,
      "outputs": [
        {
          "output_type": "execute_result",
          "data": {
            "text/plain": [
              "(20, 1)"
            ]
          },
          "metadata": {},
          "execution_count": 61
        }
      ]
    },
    {
      "cell_type": "markdown",
      "source": [
        "# bit_count(self, /)\n",
        "\n",
        "       Number of ones in the binary representation of the absolute value of self.\n",
        "       \n",
        "       Also known as the population count.\n",
        "       \n",
        "       >>> bin(13)\n",
        "       '0b1101'\n",
        "       >>> (13).bit_count()\n",
        "       3"
      ],
      "metadata": {
        "id": "MkRDk6RJRgiA"
      }
    },
    {
      "cell_type": "code",
      "source": [
        "bin(34)"
      ],
      "metadata": {
        "colab": {
          "base_uri": "https://localhost:8080/",
          "height": 35
        },
        "outputId": "c0fc93f8-9aa8-4f10-a3d6-5257aa58fbb3",
        "id": "h3qWdtXIRgiA"
      },
      "execution_count": null,
      "outputs": [
        {
          "output_type": "execute_result",
          "data": {
            "text/plain": [
              "'0b100010'"
            ],
            "application/vnd.google.colaboratory.intrinsic+json": {
              "type": "string"
            }
          },
          "metadata": {},
          "execution_count": 62
        }
      ]
    },
    {
      "cell_type": "code",
      "source": [
        "(34).bit_count()"
      ],
      "metadata": {
        "colab": {
          "base_uri": "https://localhost:8080/"
        },
        "outputId": "8f81efe5-b3e0-498c-c604-98ba2b1d2f8e",
        "id": "nRMAh4y7RgiB"
      },
      "execution_count": null,
      "outputs": [
        {
          "output_type": "execute_result",
          "data": {
            "text/plain": [
              "2"
            ]
          },
          "metadata": {},
          "execution_count": 63
        }
      ]
    },
    {
      "cell_type": "markdown",
      "source": [
        " # conjugate(...)\n",
        "\n",
        "       Returns self, the complex conjugate of any int."
      ],
      "metadata": {
        "id": "R9KMVoOBRgiB"
      }
    },
    {
      "cell_type": "code",
      "source": [
        "z=5+6j\n",
        "z.conjugate()"
      ],
      "metadata": {
        "colab": {
          "base_uri": "https://localhost:8080/"
        },
        "outputId": "1a19f988-22eb-4014-afe9-2d55ddfd87a5",
        "id": "LidwMxE6RgiB"
      },
      "execution_count": null,
      "outputs": [
        {
          "output_type": "execute_result",
          "data": {
            "text/plain": [
              "(5-6j)"
            ]
          },
          "metadata": {},
          "execution_count": 64
        }
      ]
    },
    {
      "cell_type": "markdown",
      "source": [
        "# to_bytes(self, /, length=1, byteorder='big', *, signed=False)\n",
        "\n",
        "       Return an array of bytes representing an integer.\n",
        "       \n",
        "       length\n",
        "         Length of bytes object to use.  An OverflowError is raised if the\n",
        "         integer is not representable with the given number of bytes.  Default\n",
        "         is length 1.\n",
        "       byteorder\n",
        "         The byte order used to represent the integer.  If byteorder is 'big',\n",
        "         the most significant byte is at the beginning of the byte array.  If\n",
        "         byteorder is 'little', the most significant byte is at the end of the\n",
        "         byte array.  To request the native byte order of the host system, use\n",
        "         `sys.byteorder' as the byte order value.  Default is to use 'big'.\n",
        "       signed\n",
        "         Determines whether two's complement is used to represent the integer.\n",
        "         If signed is False and a negative integer is given, an OverflowError\n",
        "         is raised.\n"
      ],
      "metadata": {
        "id": "aFaSjNh2RgiB"
      }
    },
    {
      "cell_type": "code",
      "source": [
        "(78).to_bytes(byteorder='big',signed=False)"
      ],
      "metadata": {
        "colab": {
          "base_uri": "https://localhost:8080/"
        },
        "outputId": "987471f8-5e5a-4ce3-9fe7-e2f166f3b474",
        "id": "PuFz8fyDRgiB"
      },
      "execution_count": null,
      "outputs": [
        {
          "output_type": "execute_result",
          "data": {
            "text/plain": [
              "b'N'"
            ]
          },
          "metadata": {},
          "execution_count": 68
        }
      ]
    },
    {
      "cell_type": "markdown",
      "source": [
        "# from_bytes(bytes, byteorder='big', *, signed=False)\n",
        "\n",
        "       Return the integer represented by the given array of bytes.\n",
        "       \n",
        "       bytes\n",
        "         Holds the array of bytes to convert.  The argument must either\n",
        "         support the buffer protocol or be an iterable object producing bytes.\n",
        "         Bytes and bytearray are examples of built-in objects that support the\n",
        "         buffer protocol.\n",
        "       byteorder\n",
        "         The byte order used to represent the integer.  If byteorder is 'big',\n",
        "         the most significant byte is at the beginning of the byte array.  If\n",
        "         byteorder is 'little', the most significant byte is at the end of the\n",
        "         byte array.  To request the native byte order of the host system, use\n",
        "         `sys.byteorder' as the byte order value.  Default is to use 'big'.\n",
        "       signed\n",
        "         Indicates whether two's complement is used to represent the integer"
      ],
      "metadata": {
        "id": "4Mbx8TQzRgiB"
      }
    },
    {
      "cell_type": "code",
      "source": [
        "(78).from_bytes(b'N',byteorder='big',signed=False)"
      ],
      "metadata": {
        "colab": {
          "base_uri": "https://localhost:8080/"
        },
        "outputId": "b515adbb-801e-48a6-a343-b6e56c199b2f",
        "id": "mnuJHAQ2RgiC"
      },
      "execution_count": null,
      "outputs": [
        {
          "output_type": "execute_result",
          "data": {
            "text/plain": [
              "78"
            ]
          },
          "metadata": {},
          "execution_count": 70
        }
      ]
    },
    {
      "cell_type": "markdown",
      "source": [
        "\n",
        "# denominator\n",
        "\n",
        "the denominator of a rational number in lowest terms\n",
        "   \n",
        "   # imag\n",
        "       the imaginary part of a complex number\n",
        "   \n",
        "   # numerator\n",
        "       the numerator of a rational number in lowest terms\n",
        "   \n",
        "   # real\n",
        "       the real part of a complex number"
      ],
      "metadata": {
        "id": "G2MPz8JNRgiC"
      }
    },
    {
      "cell_type": "code",
      "source": [
        "x = 12\n",
        "print(x.denominator)"
      ],
      "metadata": {
        "colab": {
          "base_uri": "https://localhost:8080/"
        },
        "outputId": "c044a646-3d7f-4812-fded-2ccb75c856e2",
        "id": "afYaSfv9RgiC"
      },
      "execution_count": null,
      "outputs": [
        {
          "output_type": "stream",
          "name": "stdout",
          "text": [
            "1\n"
          ]
        }
      ]
    },
    {
      "cell_type": "code",
      "source": [
        "z = 3 + 5j\n",
        "print(z.imag)"
      ],
      "metadata": {
        "colab": {
          "base_uri": "https://localhost:8080/"
        },
        "outputId": "b3665dd5-be0c-4e8d-f410-918e3d260bda",
        "id": "xzm3_iSCRgiD"
      },
      "execution_count": null,
      "outputs": [
        {
          "output_type": "stream",
          "name": "stdout",
          "text": [
            "5.0\n"
          ]
        }
      ]
    },
    {
      "cell_type": "code",
      "source": [
        "z = 4 + 5j\n",
        "print(z.real)"
      ],
      "metadata": {
        "colab": {
          "base_uri": "https://localhost:8080/"
        },
        "outputId": "a8e769aa-59c7-409f-994c-ccacc6229fa0",
        "id": "PXtBmaoqRgiD"
      },
      "execution_count": null,
      "outputs": [
        {
          "output_type": "stream",
          "name": "stdout",
          "text": [
            "4.0\n"
          ]
        }
      ]
    },
    {
      "cell_type": "markdown",
      "source": [
        "# float"
      ],
      "metadata": {
        "id": "Ge07e3BXe9QM"
      }
    },
    {
      "cell_type": "markdown",
      "source": [
        "# help(float)"
      ],
      "metadata": {
        "id": "yX5gv2f2Vfyv"
      }
    },
    {
      "cell_type": "code",
      "source": [
        "help(float)"
      ],
      "metadata": {
        "colab": {
          "base_uri": "https://localhost:8080/"
        },
        "id": "EC9ZTz4qW4se",
        "outputId": "1e760811-fbbb-41b2-8824-9fafbe3e9363"
      },
      "execution_count": null,
      "outputs": [
        {
          "output_type": "stream",
          "name": "stdout",
          "text": [
            "Help on class float in module builtins:\n",
            "\n",
            "class float(object)\n",
            " |  float(x=0, /)\n",
            " |  \n",
            " |  Convert a string or number to a floating point number, if possible.\n",
            " |  \n",
            " |  Methods defined here:\n",
            " |  \n",
            " |  __abs__(self, /)\n",
            " |      abs(self)\n",
            " |  \n",
            " |  __add__(self, value, /)\n",
            " |      Return self+value.\n",
            " |  \n",
            " |  __bool__(self, /)\n",
            " |      True if self else False\n",
            " |  \n",
            " |  __ceil__(self, /)\n",
            " |      Return the ceiling as an Integral.\n",
            " |  \n",
            " |  __divmod__(self, value, /)\n",
            " |      Return divmod(self, value).\n",
            " |  \n",
            " |  __eq__(self, value, /)\n",
            " |      Return self==value.\n",
            " |  \n",
            " |  __float__(self, /)\n",
            " |      float(self)\n",
            " |  \n",
            " |  __floor__(self, /)\n",
            " |      Return the floor as an Integral.\n",
            " |  \n",
            " |  __floordiv__(self, value, /)\n",
            " |      Return self//value.\n",
            " |  \n",
            " |  __format__(self, format_spec, /)\n",
            " |      Formats the float according to format_spec.\n",
            " |  \n",
            " |  __ge__(self, value, /)\n",
            " |      Return self>=value.\n",
            " |  \n",
            " |  __getattribute__(self, name, /)\n",
            " |      Return getattr(self, name).\n",
            " |  \n",
            " |  __getnewargs__(self, /)\n",
            " |  \n",
            " |  __gt__(self, value, /)\n",
            " |      Return self>value.\n",
            " |  \n",
            " |  __hash__(self, /)\n",
            " |      Return hash(self).\n",
            " |  \n",
            " |  __int__(self, /)\n",
            " |      int(self)\n",
            " |  \n",
            " |  __le__(self, value, /)\n",
            " |      Return self<=value.\n",
            " |  \n",
            " |  __lt__(self, value, /)\n",
            " |      Return self<value.\n",
            " |  \n",
            " |  __mod__(self, value, /)\n",
            " |      Return self%value.\n",
            " |  \n",
            " |  __mul__(self, value, /)\n",
            " |      Return self*value.\n",
            " |  \n",
            " |  __ne__(self, value, /)\n",
            " |      Return self!=value.\n",
            " |  \n",
            " |  __neg__(self, /)\n",
            " |      -self\n",
            " |  \n",
            " |  __pos__(self, /)\n",
            " |      +self\n",
            " |  \n",
            " |  __pow__(self, value, mod=None, /)\n",
            " |      Return pow(self, value, mod).\n",
            " |  \n",
            " |  __radd__(self, value, /)\n",
            " |      Return value+self.\n",
            " |  \n",
            " |  __rdivmod__(self, value, /)\n",
            " |      Return divmod(value, self).\n",
            " |  \n",
            " |  __repr__(self, /)\n",
            " |      Return repr(self).\n",
            " |  \n",
            " |  __rfloordiv__(self, value, /)\n",
            " |      Return value//self.\n",
            " |  \n",
            " |  __rmod__(self, value, /)\n",
            " |      Return value%self.\n",
            " |  \n",
            " |  __rmul__(self, value, /)\n",
            " |      Return value*self.\n",
            " |  \n",
            " |  __round__(self, ndigits=None, /)\n",
            " |      Return the Integral closest to x, rounding half toward even.\n",
            " |      \n",
            " |      When an argument is passed, work like built-in round(x, ndigits).\n",
            " |  \n",
            " |  __rpow__(self, value, mod=None, /)\n",
            " |      Return pow(value, self, mod).\n",
            " |  \n",
            " |  __rsub__(self, value, /)\n",
            " |      Return value-self.\n",
            " |  \n",
            " |  __rtruediv__(self, value, /)\n",
            " |      Return value/self.\n",
            " |  \n",
            " |  __sub__(self, value, /)\n",
            " |      Return self-value.\n",
            " |  \n",
            " |  __truediv__(self, value, /)\n",
            " |      Return self/value.\n",
            " |  \n",
            " |  __trunc__(self, /)\n",
            " |      Return the Integral closest to x between 0 and x.\n",
            " |  \n",
            " |  as_integer_ratio(self, /)\n",
            " |      Return integer ratio.\n",
            " |      \n",
            " |      Return a pair of integers, whose ratio is exactly equal to the original float\n",
            " |      and with a positive denominator.\n",
            " |      \n",
            " |      Raise OverflowError on infinities and a ValueError on NaNs.\n",
            " |      \n",
            " |      >>> (10.0).as_integer_ratio()\n",
            " |      (10, 1)\n",
            " |      >>> (0.0).as_integer_ratio()\n",
            " |      (0, 1)\n",
            " |      >>> (-.25).as_integer_ratio()\n",
            " |      (-1, 4)\n",
            " |  \n",
            " |  conjugate(self, /)\n",
            " |      Return self, the complex conjugate of any float.\n",
            " |  \n",
            " |  hex(self, /)\n",
            " |      Return a hexadecimal representation of a floating-point number.\n",
            " |      \n",
            " |      >>> (-0.1).hex()\n",
            " |      '-0x1.999999999999ap-4'\n",
            " |      >>> 3.14159.hex()\n",
            " |      '0x1.921f9f01b866ep+1'\n",
            " |  \n",
            " |  is_integer(self, /)\n",
            " |      Return True if the float is an integer.\n",
            " |  \n",
            " |  ----------------------------------------------------------------------\n",
            " |  Class methods defined here:\n",
            " |  \n",
            " |  __getformat__(typestr, /)\n",
            " |      You probably don't want to use this function.\n",
            " |      \n",
            " |        typestr\n",
            " |          Must be 'double' or 'float'.\n",
            " |      \n",
            " |      It exists mainly to be used in Python's test suite.\n",
            " |      \n",
            " |      This function returns whichever of 'unknown', 'IEEE, big-endian' or 'IEEE,\n",
            " |      little-endian' best describes the format of floating point numbers used by the\n",
            " |      C type named by typestr.\n",
            " |  \n",
            " |  fromhex(string, /)\n",
            " |      Create a floating-point number from a hexadecimal string.\n",
            " |      \n",
            " |      >>> float.fromhex('0x1.ffffp10')\n",
            " |      2047.984375\n",
            " |      >>> float.fromhex('-0x1p-1074')\n",
            " |      -5e-324\n",
            " |  \n",
            " |  ----------------------------------------------------------------------\n",
            " |  Static methods defined here:\n",
            " |  \n",
            " |  __new__(*args, **kwargs)\n",
            " |      Create and return a new object.  See help(type) for accurate signature.\n",
            " |  \n",
            " |  ----------------------------------------------------------------------\n",
            " |  Data descriptors defined here:\n",
            " |  \n",
            " |  imag\n",
            " |      the imaginary part of a complex number\n",
            " |  \n",
            " |  real\n",
            " |      the real part of a complex number\n",
            "\n"
          ]
        }
      ]
    },
    {
      "cell_type": "markdown",
      "source": [
        "# as_integer_ratio(self, /)\n",
        "\n",
        "       Return integer ratio.\n",
        "       \n",
        "       Return a pair of integers, whose ratio is exactly equal to the original float\n",
        "       and with a positive denominator.\n",
        "       \n",
        "       Raise OverflowError on infinities and a ValueError on NaNs.\n",
        "       \n",
        "       >>> (10.0).as_integer_ratio()\n",
        "       (10, 1)\n",
        "       >>> (0.0).as_integer_ratio()\n",
        "       (0, 1)\n",
        "       >>> (-.25).as_integer_ratio()\n",
        "       (-1, 4)"
      ],
      "metadata": {
        "id": "iumOg1RgfLjR"
      }
    },
    {
      "cell_type": "code",
      "source": [
        "(22.0).as_integer_ratio()"
      ],
      "metadata": {
        "id": "2pwL4Q_cfa2o",
        "colab": {
          "base_uri": "https://localhost:8080/"
        },
        "outputId": "fcd5e0aa-7355-416c-bdd5-a2b1a8ca2206"
      },
      "execution_count": null,
      "outputs": [
        {
          "output_type": "execute_result",
          "data": {
            "text/plain": [
              "(22, 1)"
            ]
          },
          "metadata": {},
          "execution_count": 6
        }
      ]
    },
    {
      "cell_type": "code",
      "source": [
        "(2.0).as_integer_ratio()"
      ],
      "metadata": {
        "colab": {
          "base_uri": "https://localhost:8080/"
        },
        "id": "N4CW0Dv9Fb5D",
        "outputId": "88c1545e-2e01-4005-ad39-81c6b9a7c245"
      },
      "execution_count": null,
      "outputs": [
        {
          "output_type": "execute_result",
          "data": {
            "text/plain": [
              "(2, 1)"
            ]
          },
          "metadata": {},
          "execution_count": 8
        }
      ]
    },
    {
      "cell_type": "markdown",
      "source": [
        "# conjugate(self, /)\n",
        "\n",
        "       Return self, the complex conjugate of any float."
      ],
      "metadata": {
        "id": "W_CY26pGcSWk"
      }
    },
    {
      "cell_type": "code",
      "source": [
        "z = 3.5 + 4.2j\n",
        "z.conjugate()"
      ],
      "metadata": {
        "colab": {
          "base_uri": "https://localhost:8080/"
        },
        "id": "0c2RktoLcX7q",
        "outputId": "9e6ce0d5-1a12-4775-bdf6-94f5ab14645a"
      },
      "execution_count": null,
      "outputs": [
        {
          "output_type": "execute_result",
          "data": {
            "text/plain": [
              "(3.5-4.2j)"
            ]
          },
          "metadata": {},
          "execution_count": 1
        }
      ]
    },
    {
      "cell_type": "markdown",
      "source": [
        "# hex(self, /)\n",
        "\n",
        "       Return a hexadecimal representation of a floating-point number.\n",
        "       \n",
        "       >>> (-0.1).hex()\n",
        "       '-0x1.999999999999ap-4'\n",
        "       >>> 3.14159.hex()\n",
        "       '0x1.921f9f01b866ep+1'"
      ],
      "metadata": {
        "id": "evCDb00wcxoL"
      }
    },
    {
      "cell_type": "code",
      "source": [
        "(0.8).hex()"
      ],
      "metadata": {
        "colab": {
          "base_uri": "https://localhost:8080/",
          "height": 35
        },
        "id": "jBbyilTUc7ad",
        "outputId": "559a7020-99ca-48ef-c8a2-50c8b78d5b92"
      },
      "execution_count": null,
      "outputs": [
        {
          "output_type": "execute_result",
          "data": {
            "text/plain": [
              "'0x1.999999999999ap-1'"
            ],
            "application/vnd.google.colaboratory.intrinsic+json": {
              "type": "string"
            }
          },
          "metadata": {},
          "execution_count": 2
        }
      ]
    },
    {
      "cell_type": "code",
      "source": [
        "22.7.hex()"
      ],
      "metadata": {
        "colab": {
          "base_uri": "https://localhost:8080/",
          "height": 35
        },
        "id": "kGv_IDMrdFf-",
        "outputId": "562cd35c-8748-40bc-d213-eb9b0e7c9626"
      },
      "execution_count": null,
      "outputs": [
        {
          "output_type": "execute_result",
          "data": {
            "text/plain": [
              "'0x1.6b33333333333p+4'"
            ],
            "application/vnd.google.colaboratory.intrinsic+json": {
              "type": "string"
            }
          },
          "metadata": {},
          "execution_count": 3
        }
      ]
    },
    {
      "cell_type": "markdown",
      "source": [
        "# is_integer(self, /)\n",
        "\n",
        "       Return True if the float is an integer."
      ],
      "metadata": {
        "id": "AFriMkz3dt__"
      }
    },
    {
      "cell_type": "code",
      "source": [
        "(12.0).is_integer()"
      ],
      "metadata": {
        "colab": {
          "base_uri": "https://localhost:8080/"
        },
        "id": "et9OPnp3dzLq",
        "outputId": "08a390f7-37e4-4e69-95fe-861edf190e72"
      },
      "execution_count": null,
      "outputs": [
        {
          "output_type": "execute_result",
          "data": {
            "text/plain": [
              "True"
            ]
          },
          "metadata": {},
          "execution_count": 8
        }
      ]
    },
    {
      "cell_type": "markdown",
      "source": [
        "# Data descriptors defined here:\n",
        "   \n",
        "  # imag\n",
        "       the imaginary part of a complex number\n",
        "   \n",
        "   # real\n",
        "       the real part of a complex number\n"
      ],
      "metadata": {
        "id": "NSa2yveleaEO"
      }
    },
    {
      "cell_type": "code",
      "source": [
        "z =3.5 + 4.2j\n",
        "z.real"
      ],
      "metadata": {
        "colab": {
          "base_uri": "https://localhost:8080/"
        },
        "id": "fwPIKAXJej91",
        "outputId": "07fc726d-5415-4775-a492-17e7f98006a0"
      },
      "execution_count": null,
      "outputs": [
        {
          "output_type": "execute_result",
          "data": {
            "text/plain": [
              "3.5"
            ]
          },
          "metadata": {},
          "execution_count": 11
        }
      ]
    },
    {
      "cell_type": "code",
      "source": [
        "z =3.5 + 4.2j\n",
        "z.imag"
      ],
      "metadata": {
        "colab": {
          "base_uri": "https://localhost:8080/"
        },
        "id": "WPR3DROPe3GD",
        "outputId": "ad4f73a5-8e14-4d08-d170-83df39cde61f"
      },
      "execution_count": null,
      "outputs": [
        {
          "output_type": "execute_result",
          "data": {
            "text/plain": [
              "4.2"
            ]
          },
          "metadata": {},
          "execution_count": 12
        }
      ]
    },
    {
      "cell_type": "markdown",
      "source": [
        "# complex"
      ],
      "metadata": {
        "id": "pNsHkz0ZgS3E"
      }
    },
    {
      "cell_type": "markdown",
      "source": [
        "# help(complex)"
      ],
      "metadata": {
        "id": "tlHjQOF1VlWc"
      }
    },
    {
      "cell_type": "code",
      "source": [
        "help(complex)"
      ],
      "metadata": {
        "colab": {
          "base_uri": "https://localhost:8080/"
        },
        "id": "Hj6ktD0JfF15",
        "outputId": "066ff93b-8b35-4a58-a488-743fd9cc22db"
      },
      "execution_count": null,
      "outputs": [
        {
          "output_type": "stream",
          "name": "stdout",
          "text": [
            "Help on class complex in module builtins:\n",
            "\n",
            "class complex(object)\n",
            " |  complex(real=0, imag=0)\n",
            " |  \n",
            " |  Create a complex number from a real part and an optional imaginary part.\n",
            " |  \n",
            " |  This is equivalent to (real + imag*1j) where imag defaults to 0.\n",
            " |  \n",
            " |  Methods defined here:\n",
            " |  \n",
            " |  __abs__(self, /)\n",
            " |      abs(self)\n",
            " |  \n",
            " |  __add__(self, value, /)\n",
            " |      Return self+value.\n",
            " |  \n",
            " |  __bool__(self, /)\n",
            " |      True if self else False\n",
            " |  \n",
            " |  __complex__(self, /)\n",
            " |      Convert this value to exact type complex.\n",
            " |  \n",
            " |  __eq__(self, value, /)\n",
            " |      Return self==value.\n",
            " |  \n",
            " |  __format__(self, format_spec, /)\n",
            " |      Convert to a string according to format_spec.\n",
            " |  \n",
            " |  __ge__(self, value, /)\n",
            " |      Return self>=value.\n",
            " |  \n",
            " |  __getattribute__(self, name, /)\n",
            " |      Return getattr(self, name).\n",
            " |  \n",
            " |  __getnewargs__(self, /)\n",
            " |  \n",
            " |  __gt__(self, value, /)\n",
            " |      Return self>value.\n",
            " |  \n",
            " |  __hash__(self, /)\n",
            " |      Return hash(self).\n",
            " |  \n",
            " |  __le__(self, value, /)\n",
            " |      Return self<=value.\n",
            " |  \n",
            " |  __lt__(self, value, /)\n",
            " |      Return self<value.\n",
            " |  \n",
            " |  __mul__(self, value, /)\n",
            " |      Return self*value.\n",
            " |  \n",
            " |  __ne__(self, value, /)\n",
            " |      Return self!=value.\n",
            " |  \n",
            " |  __neg__(self, /)\n",
            " |      -self\n",
            " |  \n",
            " |  __pos__(self, /)\n",
            " |      +self\n",
            " |  \n",
            " |  __pow__(self, value, mod=None, /)\n",
            " |      Return pow(self, value, mod).\n",
            " |  \n",
            " |  __radd__(self, value, /)\n",
            " |      Return value+self.\n",
            " |  \n",
            " |  __repr__(self, /)\n",
            " |      Return repr(self).\n",
            " |  \n",
            " |  __rmul__(self, value, /)\n",
            " |      Return value*self.\n",
            " |  \n",
            " |  __rpow__(self, value, mod=None, /)\n",
            " |      Return pow(value, self, mod).\n",
            " |  \n",
            " |  __rsub__(self, value, /)\n",
            " |      Return value-self.\n",
            " |  \n",
            " |  __rtruediv__(self, value, /)\n",
            " |      Return value/self.\n",
            " |  \n",
            " |  __sub__(self, value, /)\n",
            " |      Return self-value.\n",
            " |  \n",
            " |  __truediv__(self, value, /)\n",
            " |      Return self/value.\n",
            " |  \n",
            " |  conjugate(self, /)\n",
            " |      Return the complex conjugate of its argument. (3-4j).conjugate() == 3+4j.\n",
            " |  \n",
            " |  ----------------------------------------------------------------------\n",
            " |  Static methods defined here:\n",
            " |  \n",
            " |  __new__(*args, **kwargs)\n",
            " |      Create and return a new object.  See help(type) for accurate signature.\n",
            " |  \n",
            " |  ----------------------------------------------------------------------\n",
            " |  Data descriptors defined here:\n",
            " |  \n",
            " |  imag\n",
            " |      the imaginary part of a complex number\n",
            " |  \n",
            " |  real\n",
            " |      the real part of a complex number\n",
            "\n"
          ]
        }
      ]
    },
    {
      "cell_type": "markdown",
      "source": [
        "# conjugate(self, /)\n",
        "\n",
        "       Return the complex conjugate of its argument. (3-4j).conjugate() == 3+4j.\n"
      ],
      "metadata": {
        "id": "VkGIDXh0fVLA"
      }
    },
    {
      "cell_type": "code",
      "source": [
        "z = 3+5j\n",
        "z.conjugate()"
      ],
      "metadata": {
        "colab": {
          "base_uri": "https://localhost:8080/"
        },
        "id": "PqTlc37_fadi",
        "outputId": "76727bad-d399-40ee-8060-85c5092c2415"
      },
      "execution_count": null,
      "outputs": [
        {
          "output_type": "execute_result",
          "data": {
            "text/plain": [
              "(3-5j)"
            ]
          },
          "metadata": {},
          "execution_count": 15
        }
      ]
    },
    {
      "cell_type": "code",
      "source": [
        "z = 3+5j\n",
        "z.imag"
      ],
      "metadata": {
        "colab": {
          "base_uri": "https://localhost:8080/"
        },
        "id": "raiERt9dfmZH",
        "outputId": "58e6e172-7cb3-4f24-f033-4cb1183546fb"
      },
      "execution_count": null,
      "outputs": [
        {
          "output_type": "execute_result",
          "data": {
            "text/plain": [
              "5.0"
            ]
          },
          "metadata": {},
          "execution_count": 16
        }
      ]
    },
    {
      "cell_type": "code",
      "source": [
        "z =3+5j\n",
        "z.real"
      ],
      "metadata": {
        "colab": {
          "base_uri": "https://localhost:8080/"
        },
        "id": "d1xytNq1fuOe",
        "outputId": "f1063867-4825-4226-856d-e980d8c00eb8"
      },
      "execution_count": null,
      "outputs": [
        {
          "output_type": "execute_result",
          "data": {
            "text/plain": [
              "3.0"
            ]
          },
          "metadata": {},
          "execution_count": 17
        }
      ]
    },
    {
      "cell_type": "code",
      "source": [],
      "metadata": {
        "id": "rfILU31pgMQl"
      },
      "execution_count": null,
      "outputs": []
    },
    {
      "cell_type": "markdown",
      "source": [
        "# list"
      ],
      "metadata": {
        "id": "WVsmuRFGgiSS"
      }
    },
    {
      "cell_type": "markdown",
      "source": [
        "# help(list)"
      ],
      "metadata": {
        "id": "ayNGe5gLVsJ2"
      }
    },
    {
      "cell_type": "code",
      "source": [
        "help(list)"
      ],
      "metadata": {
        "colab": {
          "base_uri": "https://localhost:8080/"
        },
        "id": "0uHXUrcrgoXK",
        "outputId": "9f5bbb0e-ff4e-403a-c644-c172df1bfde7"
      },
      "execution_count": null,
      "outputs": [
        {
          "output_type": "stream",
          "name": "stdout",
          "text": [
            "Help on class list in module builtins:\n",
            "\n",
            "class list(object)\n",
            " |  list(iterable=(), /)\n",
            " |  \n",
            " |  Built-in mutable sequence.\n",
            " |  \n",
            " |  If no argument is given, the constructor creates a new empty list.\n",
            " |  The argument must be an iterable if specified.\n",
            " |  \n",
            " |  Methods defined here:\n",
            " |  \n",
            " |  __add__(self, value, /)\n",
            " |      Return self+value.\n",
            " |  \n",
            " |  __contains__(self, key, /)\n",
            " |      Return key in self.\n",
            " |  \n",
            " |  __delitem__(self, key, /)\n",
            " |      Delete self[key].\n",
            " |  \n",
            " |  __eq__(self, value, /)\n",
            " |      Return self==value.\n",
            " |  \n",
            " |  __ge__(self, value, /)\n",
            " |      Return self>=value.\n",
            " |  \n",
            " |  __getattribute__(self, name, /)\n",
            " |      Return getattr(self, name).\n",
            " |  \n",
            " |  __getitem__(...)\n",
            " |      x.__getitem__(y) <==> x[y]\n",
            " |  \n",
            " |  __gt__(self, value, /)\n",
            " |      Return self>value.\n",
            " |  \n",
            " |  __iadd__(self, value, /)\n",
            " |      Implement self+=value.\n",
            " |  \n",
            " |  __imul__(self, value, /)\n",
            " |      Implement self*=value.\n",
            " |  \n",
            " |  __init__(self, /, *args, **kwargs)\n",
            " |      Initialize self.  See help(type(self)) for accurate signature.\n",
            " |  \n",
            " |  __iter__(self, /)\n",
            " |      Implement iter(self).\n",
            " |  \n",
            " |  __le__(self, value, /)\n",
            " |      Return self<=value.\n",
            " |  \n",
            " |  __len__(self, /)\n",
            " |      Return len(self).\n",
            " |  \n",
            " |  __lt__(self, value, /)\n",
            " |      Return self<value.\n",
            " |  \n",
            " |  __mul__(self, value, /)\n",
            " |      Return self*value.\n",
            " |  \n",
            " |  __ne__(self, value, /)\n",
            " |      Return self!=value.\n",
            " |  \n",
            " |  __repr__(self, /)\n",
            " |      Return repr(self).\n",
            " |  \n",
            " |  __reversed__(self, /)\n",
            " |      Return a reverse iterator over the list.\n",
            " |  \n",
            " |  __rmul__(self, value, /)\n",
            " |      Return value*self.\n",
            " |  \n",
            " |  __setitem__(self, key, value, /)\n",
            " |      Set self[key] to value.\n",
            " |  \n",
            " |  __sizeof__(self, /)\n",
            " |      Return the size of the list in memory, in bytes.\n",
            " |  \n",
            " |  append(self, object, /)\n",
            " |      Append object to the end of the list.\n",
            " |  \n",
            " |  clear(self, /)\n",
            " |      Remove all items from list.\n",
            " |  \n",
            " |  copy(self, /)\n",
            " |      Return a shallow copy of the list.\n",
            " |  \n",
            " |  count(self, value, /)\n",
            " |      Return number of occurrences of value.\n",
            " |  \n",
            " |  extend(self, iterable, /)\n",
            " |      Extend list by appending elements from the iterable.\n",
            " |  \n",
            " |  index(self, value, start=0, stop=9223372036854775807, /)\n",
            " |      Return first index of value.\n",
            " |      \n",
            " |      Raises ValueError if the value is not present.\n",
            " |  \n",
            " |  insert(self, index, object, /)\n",
            " |      Insert object before index.\n",
            " |  \n",
            " |  pop(self, index=-1, /)\n",
            " |      Remove and return item at index (default last).\n",
            " |      \n",
            " |      Raises IndexError if list is empty or index is out of range.\n",
            " |  \n",
            " |  remove(self, value, /)\n",
            " |      Remove first occurrence of value.\n",
            " |      \n",
            " |      Raises ValueError if the value is not present.\n",
            " |  \n",
            " |  reverse(self, /)\n",
            " |      Reverse *IN PLACE*.\n",
            " |  \n",
            " |  sort(self, /, *, key=None, reverse=False)\n",
            " |      Sort the list in ascending order and return None.\n",
            " |      \n",
            " |      The sort is in-place (i.e. the list itself is modified) and stable (i.e. the\n",
            " |      order of two equal elements is maintained).\n",
            " |      \n",
            " |      If a key function is given, apply it once to each list item and sort them,\n",
            " |      ascending or descending, according to their function values.\n",
            " |      \n",
            " |      The reverse flag can be set to sort in descending order.\n",
            " |  \n",
            " |  ----------------------------------------------------------------------\n",
            " |  Class methods defined here:\n",
            " |  \n",
            " |  __class_getitem__(...)\n",
            " |      See PEP 585\n",
            " |  \n",
            " |  ----------------------------------------------------------------------\n",
            " |  Static methods defined here:\n",
            " |  \n",
            " |  __new__(*args, **kwargs)\n",
            " |      Create and return a new object.  See help(type) for accurate signature.\n",
            " |  \n",
            " |  ----------------------------------------------------------------------\n",
            " |  Data and other attributes defined here:\n",
            " |  \n",
            " |  __hash__ = None\n",
            "\n"
          ]
        }
      ]
    },
    {
      "cell_type": "markdown",
      "source": [
        "# append(self, object, /)\n",
        "\n",
        "       Append object to the end of the list."
      ],
      "metadata": {
        "id": "cgYECUXLhcJi"
      }
    },
    {
      "cell_type": "code",
      "source": [
        "my_list =[1,2,3,4,5]\n",
        "my_list.append(6)\n",
        "print(my_list)\n"
      ],
      "metadata": {
        "colab": {
          "base_uri": "https://localhost:8080/"
        },
        "id": "USKT8z61hyWc",
        "outputId": "2466a852-0045-49bb-f825-a7b057f7b908"
      },
      "execution_count": null,
      "outputs": [
        {
          "output_type": "stream",
          "name": "stdout",
          "text": [
            "[1, 2, 3, 4, 5, 6]\n"
          ]
        }
      ]
    },
    {
      "cell_type": "markdown",
      "source": [
        "# clear(self, /)\n",
        "\n",
        "       Remove all items from list."
      ],
      "metadata": {
        "id": "VVjyjhLzoO0y"
      }
    },
    {
      "cell_type": "code",
      "source": [
        "my_list =[1,2,3,4,5]\n",
        "my_list.clear()\n",
        "print(my_list)\n"
      ],
      "metadata": {
        "colab": {
          "base_uri": "https://localhost:8080/"
        },
        "id": "B-32uSxooCyw",
        "outputId": "98a06464-f96b-4044-8012-b57f63e5fd54"
      },
      "execution_count": null,
      "outputs": [
        {
          "output_type": "stream",
          "name": "stdout",
          "text": [
            "[]\n"
          ]
        }
      ]
    },
    {
      "cell_type": "markdown",
      "source": [
        "# copy(self, /)\n",
        "\n",
        "       Return a shallow copy of the list."
      ],
      "metadata": {
        "id": "WYlJxpkDoYQg"
      }
    },
    {
      "cell_type": "code",
      "source": [
        "my_list =[1,2,3,4,5]\n",
        "print(my_list)\n",
        "my_list.copy()"
      ],
      "metadata": {
        "colab": {
          "base_uri": "https://localhost:8080/"
        },
        "id": "gqYr1Gu3oc7R",
        "outputId": "495f73bc-08cb-4f39-95a8-e64c06f1e966"
      },
      "execution_count": null,
      "outputs": [
        {
          "output_type": "stream",
          "name": "stdout",
          "text": [
            "[1, 2, 3, 4, 5]\n"
          ]
        },
        {
          "output_type": "execute_result",
          "data": {
            "text/plain": [
              "[1, 2, 3, 4, 5]"
            ]
          },
          "metadata": {},
          "execution_count": 29
        }
      ]
    },
    {
      "cell_type": "markdown",
      "source": [
        "# count(self, value, /)\n",
        "\n",
        "       Return number of occurrences of value."
      ],
      "metadata": {
        "id": "3UycxESpotRa"
      }
    },
    {
      "cell_type": "code",
      "source": [
        "my_list =[1,2,3,5,5]\n",
        "my_list.append(6)\n",
        "print(my_list)\n",
        "count_of_5 = my_list.count(5)\n",
        "print(f\"The number of times 5 appears in the list: {count_of_5}\")"
      ],
      "metadata": {
        "colab": {
          "base_uri": "https://localhost:8080/"
        },
        "id": "sSFKnjN0oyS8",
        "outputId": "ce3c7f19-c829-4e87-b412-d4b08cae26cf"
      },
      "execution_count": null,
      "outputs": [
        {
          "output_type": "stream",
          "name": "stdout",
          "text": [
            "[1, 2, 3, 5, 5, 6]\n",
            "The number of times 5 appears in the list: 2\n"
          ]
        }
      ]
    },
    {
      "cell_type": "markdown",
      "source": [
        "# extend(self, iterable, /)\n",
        "\n",
        "       Extend list by appending elements from the iterable."
      ],
      "metadata": {
        "id": "kj4VVfzCpTk4"
      }
    },
    {
      "cell_type": "code",
      "source": [
        "my_list =[1,2,3,4,5]\n",
        "my_list.append(6)\n",
        "print(my_list)\n",
        "my_list.extend([7,8,9])\n",
        "print(my_list)"
      ],
      "metadata": {
        "colab": {
          "base_uri": "https://localhost:8080/"
        },
        "id": "EZIroHwJpb9M",
        "outputId": "6b70bafc-c84e-4b70-de46-46c2ea4c119a"
      },
      "execution_count": null,
      "outputs": [
        {
          "output_type": "stream",
          "name": "stdout",
          "text": [
            "[1, 2, 3, 4, 5, 6]\n",
            "[1, 2, 3, 4, 5, 6, 7, 8, 9]\n"
          ]
        }
      ]
    },
    {
      "cell_type": "markdown",
      "source": [
        "# index(self, value, start=0, stop=9223372036854775807, /)\n",
        "\n",
        "       Return first index of value.\n",
        "       \n",
        "       Raises ValueError if the value is not present."
      ],
      "metadata": {
        "id": "bmRImiSPppK-"
      }
    },
    {
      "cell_type": "code",
      "source": [
        "my_list =[1,2,3,4,5]\n",
        "my_list.append(6)\n",
        "print(my_list)\n",
        "index_of_3 = my_list.index(3)\n",
        "print(f\"The index of 3 in the list is: {index_of_3}\")"
      ],
      "metadata": {
        "colab": {
          "base_uri": "https://localhost:8080/"
        },
        "id": "iI-gbIGdp1oW",
        "outputId": "b3035ef0-2851-42ec-e1dd-b9a700402730"
      },
      "execution_count": null,
      "outputs": [
        {
          "output_type": "stream",
          "name": "stdout",
          "text": [
            "[1, 2, 3, 4, 5, 6]\n",
            "The index of 3 in the list is: 2\n"
          ]
        }
      ]
    },
    {
      "cell_type": "markdown",
      "source": [
        "# insert(self, index, object, /)\n",
        "     \n",
        "     Insert object before index.\n",
        "   "
      ],
      "metadata": {
        "id": "UqPE3BT_rkwf"
      }
    },
    {
      "cell_type": "code",
      "source": [
        "my_list =[1,2,3,4,5]\n",
        "my_list.append(6)\n",
        "print(my_list)\n",
        "index_of_3 = my_list.insert(4,6)\n",
        "print(f\"The index of 3 in the list is: {my_list.index(2)}\")\n",
        "print(my_list)\n"
      ],
      "metadata": {
        "colab": {
          "base_uri": "https://localhost:8080/"
        },
        "id": "zfTLGE8Artb0",
        "outputId": "9634961e-e44d-4768-e14e-3a693be165d7"
      },
      "execution_count": null,
      "outputs": [
        {
          "output_type": "stream",
          "name": "stdout",
          "text": [
            "[1, 2, 3, 4, 5, 6]\n",
            "The index of 3 in the list is: 1\n",
            "[1, 2, 3, 4, 6, 5, 6]\n"
          ]
        }
      ]
    },
    {
      "cell_type": "markdown",
      "source": [
        "# pop(self, index=-1, /)\n",
        "\n",
        "       Remove and return item at index (default last).\n",
        "       \n",
        "       Raises IndexError if list is empty or index is out of range."
      ],
      "metadata": {
        "id": "veTv4i6Swiv4"
      }
    },
    {
      "cell_type": "code",
      "source": [
        "my_list = [1, 2, 3, 4, 5]\n",
        "print(my_list)\n",
        "index_of_3 = my_list.pop(1)\n",
        "print(f\"The item is removed from the list : \")\n",
        "print(my_list)"
      ],
      "metadata": {
        "colab": {
          "base_uri": "https://localhost:8080/"
        },
        "id": "Ou63LRCaw2OO",
        "outputId": "0c38d4bd-68bb-43fe-c669-db64e9d78f93"
      },
      "execution_count": null,
      "outputs": [
        {
          "output_type": "stream",
          "name": "stdout",
          "text": [
            "[1, 2, 3, 4, 5]\n",
            "The item is removed from the list : \n",
            "[1, 3, 4, 5]\n"
          ]
        }
      ]
    },
    {
      "cell_type": "markdown",
      "source": [
        "# remove(self, value, /)\n",
        "\n",
        "       Remove first occurrence of value.\n",
        "       \n",
        "       Raises ValueError if the value is not present."
      ],
      "metadata": {
        "id": "CKs882Y7yU1v"
      }
    },
    {
      "cell_type": "code",
      "source": [
        "my_list = [1, 2, 3, 4, 5]\n",
        "print(my_list)\n",
        "index_of_3 = my_list.remove(4)\n",
        "print(f\"The item is removed from the list : \")\n",
        "print(my_list)"
      ],
      "metadata": {
        "colab": {
          "base_uri": "https://localhost:8080/"
        },
        "id": "e_SwnKbNygFv",
        "outputId": "13289830-994f-48c5-c38d-c72a0a9df581"
      },
      "execution_count": null,
      "outputs": [
        {
          "output_type": "stream",
          "name": "stdout",
          "text": [
            "[1, 2, 3, 4, 5]\n",
            "The item is removed from the list : \n",
            "[1, 2, 3, 5]\n"
          ]
        }
      ]
    },
    {
      "cell_type": "markdown",
      "source": [
        "# reverse(self, /)\n",
        "       \n",
        "       Reverse *IN PLACE*."
      ],
      "metadata": {
        "id": "sW5SSlinyoNO"
      }
    },
    {
      "cell_type": "code",
      "source": [
        "my_list = [1, 2, 3, 4, 5]\n",
        "print(my_list)\n",
        "index_of_3 = my_list.reverse()\n",
        "print(my_list)"
      ],
      "metadata": {
        "colab": {
          "base_uri": "https://localhost:8080/"
        },
        "id": "9NnYfJQ9zBRG",
        "outputId": "c5fbfb1c-d599-49a8-eae3-d0e30718ccf5"
      },
      "execution_count": null,
      "outputs": [
        {
          "output_type": "stream",
          "name": "stdout",
          "text": [
            "[1, 2, 3, 4, 5]\n",
            "[5, 4, 3, 2, 1]\n"
          ]
        }
      ]
    },
    {
      "cell_type": "markdown",
      "source": [
        "# sort(self, /, *, key=None, reverse=False)\n",
        "\n",
        "       Sort the list in ascending order and return None.\n",
        "       \n",
        "       The sort is in-place (i.e. the list itself is modified) and stable (i.e. the\n",
        "       order of two equal elements is maintained).\n",
        "       \n",
        "       If a key function is given, apply it once to each list item and sort them,\n",
        "       ascending or descending, according to their function values.\n",
        "       \n",
        "       The reverse flag can be set to sort in descending order."
      ],
      "metadata": {
        "id": "EnjCUzEbzRXQ"
      }
    },
    {
      "cell_type": "code",
      "source": [
        "my_list = [3, 2, 5, 1, 4]\n",
        "print(my_list)\n",
        "index_of_3 = my_list.sort()\n",
        "print(my_list)"
      ],
      "metadata": {
        "colab": {
          "base_uri": "https://localhost:8080/"
        },
        "id": "sRm3GNX1zdhN",
        "outputId": "3b9fd74c-89c0-4f9b-d9ae-73d8b3d11c66"
      },
      "execution_count": null,
      "outputs": [
        {
          "output_type": "stream",
          "name": "stdout",
          "text": [
            "[3, 2, 5, 1, 4]\n",
            "[1, 2, 3, 4, 5]\n"
          ]
        }
      ]
    },
    {
      "cell_type": "markdown",
      "source": [
        "  "
      ],
      "metadata": {
        "id": "kTa-lySQz_6w"
      }
    },
    {
      "cell_type": "markdown",
      "source": [
        "# Tuple"
      ],
      "metadata": {
        "id": "kaFt7wvn0Ig0"
      }
    },
    {
      "cell_type": "markdown",
      "source": [
        "# help(tuple)"
      ],
      "metadata": {
        "id": "41M9rd_vS9o6"
      }
    },
    {
      "cell_type": "code",
      "source": [
        "help(tuple)"
      ],
      "metadata": {
        "id": "Ncvxtois0RwQ",
        "outputId": "d7a9e972-f395-41a3-dfb6-204eb3e1e590",
        "colab": {
          "base_uri": "https://localhost:8080/"
        }
      },
      "execution_count": null,
      "outputs": [
        {
          "output_type": "stream",
          "name": "stdout",
          "text": [
            "Help on class tuple in module builtins:\n",
            "\n",
            "class tuple(object)\n",
            " |  tuple(iterable=(), /)\n",
            " |  \n",
            " |  Built-in immutable sequence.\n",
            " |  \n",
            " |  If no argument is given, the constructor returns an empty tuple.\n",
            " |  If iterable is specified the tuple is initialized from iterable's items.\n",
            " |  \n",
            " |  If the argument is a tuple, the return value is the same object.\n",
            " |  \n",
            " |  Built-in subclasses:\n",
            " |      asyncgen_hooks\n",
            " |      MonthDayNano\n",
            " |      UnraisableHookArgs\n",
            " |      VersionInfoAttributes\n",
            " |  \n",
            " |  Methods defined here:\n",
            " |  \n",
            " |  __add__(self, value, /)\n",
            " |      Return self+value.\n",
            " |  \n",
            " |  __contains__(self, key, /)\n",
            " |      Return key in self.\n",
            " |  \n",
            " |  __eq__(self, value, /)\n",
            " |      Return self==value.\n",
            " |  \n",
            " |  __ge__(self, value, /)\n",
            " |      Return self>=value.\n",
            " |  \n",
            " |  __getattribute__(self, name, /)\n",
            " |      Return getattr(self, name).\n",
            " |  \n",
            " |  __getitem__(self, key, /)\n",
            " |      Return self[key].\n",
            " |  \n",
            " |  __getnewargs__(self, /)\n",
            " |  \n",
            " |  __gt__(self, value, /)\n",
            " |      Return self>value.\n",
            " |  \n",
            " |  __hash__(self, /)\n",
            " |      Return hash(self).\n",
            " |  \n",
            " |  __iter__(self, /)\n",
            " |      Implement iter(self).\n",
            " |  \n",
            " |  __le__(self, value, /)\n",
            " |      Return self<=value.\n",
            " |  \n",
            " |  __len__(self, /)\n",
            " |      Return len(self).\n",
            " |  \n",
            " |  __lt__(self, value, /)\n",
            " |      Return self<value.\n",
            " |  \n",
            " |  __mul__(self, value, /)\n",
            " |      Return self*value.\n",
            " |  \n",
            " |  __ne__(self, value, /)\n",
            " |      Return self!=value.\n",
            " |  \n",
            " |  __repr__(self, /)\n",
            " |      Return repr(self).\n",
            " |  \n",
            " |  __rmul__(self, value, /)\n",
            " |      Return value*self.\n",
            " |  \n",
            " |  count(self, value, /)\n",
            " |      Return number of occurrences of value.\n",
            " |  \n",
            " |  index(self, value, start=0, stop=9223372036854775807, /)\n",
            " |      Return first index of value.\n",
            " |      \n",
            " |      Raises ValueError if the value is not present.\n",
            " |  \n",
            " |  ----------------------------------------------------------------------\n",
            " |  Class methods defined here:\n",
            " |  \n",
            " |  __class_getitem__(...)\n",
            " |      See PEP 585\n",
            " |  \n",
            " |  ----------------------------------------------------------------------\n",
            " |  Static methods defined here:\n",
            " |  \n",
            " |  __new__(*args, **kwargs)\n",
            " |      Create and return a new object.  See help(type) for accurate signature.\n",
            "\n"
          ]
        }
      ]
    },
    {
      "cell_type": "markdown",
      "source": [
        "# count(self, value, /)\n",
        "\n",
        "       Return number of occurrences of value."
      ],
      "metadata": {
        "id": "Od0lFT7pBHlP"
      }
    },
    {
      "cell_type": "code",
      "source": [
        "my_tuple = (1, 2, 3, 4, 5)\n",
        "count_of_5 = my_tuple.count(5)\n",
        "print(f\"The number of times 5 appears in the tuple: {count_of_5}\")\n"
      ],
      "metadata": {
        "colab": {
          "base_uri": "https://localhost:8080/"
        },
        "id": "P2XYWaSHBZG3",
        "outputId": "9475dec5-1d06-4c08-8d47-2903a18fc3b0"
      },
      "execution_count": null,
      "outputs": [
        {
          "output_type": "stream",
          "name": "stdout",
          "text": [
            "The number of times 5 appears in the tuple: 1\n"
          ]
        }
      ]
    },
    {
      "cell_type": "markdown",
      "source": [
        "# index(self, value, start=0, stop=9223372036854775807, /)\n",
        "\n",
        "       Return first index of value.\n",
        "       \n",
        "       Raises ValueError if the value is not present."
      ],
      "metadata": {
        "id": "R3ddgED3Bxby"
      }
    },
    {
      "cell_type": "code",
      "source": [
        "my_tuple = (1, 2, 3)\n",
        "index_to_insert = 1\n",
        "new_element = 4\n",
        "\n",
        "my_list = list(my_tuple)\n",
        "my_list.insert(index_to_insert, new_element)\n",
        "new_tuple = tuple(my_list)\n",
        "print(new_tuple)"
      ],
      "metadata": {
        "colab": {
          "base_uri": "https://localhost:8080/"
        },
        "id": "RuaU0Sx5FE_R",
        "outputId": "ccaf7398-e630-42d5-c53d-c77eda6da0f7"
      },
      "execution_count": null,
      "outputs": [
        {
          "output_type": "stream",
          "name": "stdout",
          "text": [
            "(1, 4, 2, 3)\n"
          ]
        }
      ]
    },
    {
      "cell_type": "markdown",
      "source": [
        "# str"
      ],
      "metadata": {
        "id": "zvYRpSkmGNDc"
      }
    },
    {
      "cell_type": "markdown",
      "source": [
        "# help(str)"
      ],
      "metadata": {
        "id": "WQH6y0YFTLz2"
      }
    },
    {
      "cell_type": "code",
      "source": [
        "help(str)"
      ],
      "metadata": {
        "colab": {
          "base_uri": "https://localhost:8080/"
        },
        "id": "cDSGcl6iGRAx",
        "outputId": "4896ed14-3ec2-4a88-daec-8d9f146e5de8"
      },
      "execution_count": null,
      "outputs": [
        {
          "output_type": "stream",
          "name": "stdout",
          "text": [
            "Help on class str in module builtins:\n",
            "\n",
            "class str(object)\n",
            " |  str(object='') -> str\n",
            " |  str(bytes_or_buffer[, encoding[, errors]]) -> str\n",
            " |  \n",
            " |  Create a new string object from the given object. If encoding or\n",
            " |  errors is specified, then the object must expose a data buffer\n",
            " |  that will be decoded using the given encoding and error handler.\n",
            " |  Otherwise, returns the result of object.__str__() (if defined)\n",
            " |  or repr(object).\n",
            " |  encoding defaults to sys.getdefaultencoding().\n",
            " |  errors defaults to 'strict'.\n",
            " |  \n",
            " |  Methods defined here:\n",
            " |  \n",
            " |  __add__(self, value, /)\n",
            " |      Return self+value.\n",
            " |  \n",
            " |  __contains__(self, key, /)\n",
            " |      Return key in self.\n",
            " |  \n",
            " |  __eq__(self, value, /)\n",
            " |      Return self==value.\n",
            " |  \n",
            " |  __format__(self, format_spec, /)\n",
            " |      Return a formatted version of the string as described by format_spec.\n",
            " |  \n",
            " |  __ge__(self, value, /)\n",
            " |      Return self>=value.\n",
            " |  \n",
            " |  __getattribute__(self, name, /)\n",
            " |      Return getattr(self, name).\n",
            " |  \n",
            " |  __getitem__(self, key, /)\n",
            " |      Return self[key].\n",
            " |  \n",
            " |  __getnewargs__(...)\n",
            " |  \n",
            " |  __gt__(self, value, /)\n",
            " |      Return self>value.\n",
            " |  \n",
            " |  __hash__(self, /)\n",
            " |      Return hash(self).\n",
            " |  \n",
            " |  __iter__(self, /)\n",
            " |      Implement iter(self).\n",
            " |  \n",
            " |  __le__(self, value, /)\n",
            " |      Return self<=value.\n",
            " |  \n",
            " |  __len__(self, /)\n",
            " |      Return len(self).\n",
            " |  \n",
            " |  __lt__(self, value, /)\n",
            " |      Return self<value.\n",
            " |  \n",
            " |  __mod__(self, value, /)\n",
            " |      Return self%value.\n",
            " |  \n",
            " |  __mul__(self, value, /)\n",
            " |      Return self*value.\n",
            " |  \n",
            " |  __ne__(self, value, /)\n",
            " |      Return self!=value.\n",
            " |  \n",
            " |  __repr__(self, /)\n",
            " |      Return repr(self).\n",
            " |  \n",
            " |  __rmod__(self, value, /)\n",
            " |      Return value%self.\n",
            " |  \n",
            " |  __rmul__(self, value, /)\n",
            " |      Return value*self.\n",
            " |  \n",
            " |  __sizeof__(self, /)\n",
            " |      Return the size of the string in memory, in bytes.\n",
            " |  \n",
            " |  __str__(self, /)\n",
            " |      Return str(self).\n",
            " |  \n",
            " |  capitalize(self, /)\n",
            " |      Return a capitalized version of the string.\n",
            " |      \n",
            " |      More specifically, make the first character have upper case and the rest lower\n",
            " |      case.\n",
            " |  \n",
            " |  casefold(self, /)\n",
            " |      Return a version of the string suitable for caseless comparisons.\n",
            " |  \n",
            " |  center(self, width, fillchar=' ', /)\n",
            " |      Return a centered string of length width.\n",
            " |      \n",
            " |      Padding is done using the specified fill character (default is a space).\n",
            " |  \n",
            " |  count(...)\n",
            " |      S.count(sub[, start[, end]]) -> int\n",
            " |      \n",
            " |      Return the number of non-overlapping occurrences of substring sub in\n",
            " |      string S[start:end].  Optional arguments start and end are\n",
            " |      interpreted as in slice notation.\n",
            " |  \n",
            " |  encode(self, /, encoding='utf-8', errors='strict')\n",
            " |      Encode the string using the codec registered for encoding.\n",
            " |      \n",
            " |      encoding\n",
            " |        The encoding in which to encode the string.\n",
            " |      errors\n",
            " |        The error handling scheme to use for encoding errors.\n",
            " |        The default is 'strict' meaning that encoding errors raise a\n",
            " |        UnicodeEncodeError.  Other possible values are 'ignore', 'replace' and\n",
            " |        'xmlcharrefreplace' as well as any other name registered with\n",
            " |        codecs.register_error that can handle UnicodeEncodeErrors.\n",
            " |  \n",
            " |  endswith(...)\n",
            " |      S.endswith(suffix[, start[, end]]) -> bool\n",
            " |      \n",
            " |      Return True if S ends with the specified suffix, False otherwise.\n",
            " |      With optional start, test S beginning at that position.\n",
            " |      With optional end, stop comparing S at that position.\n",
            " |      suffix can also be a tuple of strings to try.\n",
            " |  \n",
            " |  expandtabs(self, /, tabsize=8)\n",
            " |      Return a copy where all tab characters are expanded using spaces.\n",
            " |      \n",
            " |      If tabsize is not given, a tab size of 8 characters is assumed.\n",
            " |  \n",
            " |  find(...)\n",
            " |      S.find(sub[, start[, end]]) -> int\n",
            " |      \n",
            " |      Return the lowest index in S where substring sub is found,\n",
            " |      such that sub is contained within S[start:end].  Optional\n",
            " |      arguments start and end are interpreted as in slice notation.\n",
            " |      \n",
            " |      Return -1 on failure.\n",
            " |  \n",
            " |  format(...)\n",
            " |      S.format(*args, **kwargs) -> str\n",
            " |      \n",
            " |      Return a formatted version of S, using substitutions from args and kwargs.\n",
            " |      The substitutions are identified by braces ('{' and '}').\n",
            " |  \n",
            " |  format_map(...)\n",
            " |      S.format_map(mapping) -> str\n",
            " |      \n",
            " |      Return a formatted version of S, using substitutions from mapping.\n",
            " |      The substitutions are identified by braces ('{' and '}').\n",
            " |  \n",
            " |  index(...)\n",
            " |      S.index(sub[, start[, end]]) -> int\n",
            " |      \n",
            " |      Return the lowest index in S where substring sub is found,\n",
            " |      such that sub is contained within S[start:end].  Optional\n",
            " |      arguments start and end are interpreted as in slice notation.\n",
            " |      \n",
            " |      Raises ValueError when the substring is not found.\n",
            " |  \n",
            " |  isalnum(self, /)\n",
            " |      Return True if the string is an alpha-numeric string, False otherwise.\n",
            " |      \n",
            " |      A string is alpha-numeric if all characters in the string are alpha-numeric and\n",
            " |      there is at least one character in the string.\n",
            " |  \n",
            " |  isalpha(self, /)\n",
            " |      Return True if the string is an alphabetic string, False otherwise.\n",
            " |      \n",
            " |      A string is alphabetic if all characters in the string are alphabetic and there\n",
            " |      is at least one character in the string.\n",
            " |  \n",
            " |  isascii(self, /)\n",
            " |      Return True if all characters in the string are ASCII, False otherwise.\n",
            " |      \n",
            " |      ASCII characters have code points in the range U+0000-U+007F.\n",
            " |      Empty string is ASCII too.\n",
            " |  \n",
            " |  isdecimal(self, /)\n",
            " |      Return True if the string is a decimal string, False otherwise.\n",
            " |      \n",
            " |      A string is a decimal string if all characters in the string are decimal and\n",
            " |      there is at least one character in the string.\n",
            " |  \n",
            " |  isdigit(self, /)\n",
            " |      Return True if the string is a digit string, False otherwise.\n",
            " |      \n",
            " |      A string is a digit string if all characters in the string are digits and there\n",
            " |      is at least one character in the string.\n",
            " |  \n",
            " |  isidentifier(self, /)\n",
            " |      Return True if the string is a valid Python identifier, False otherwise.\n",
            " |      \n",
            " |      Call keyword.iskeyword(s) to test whether string s is a reserved identifier,\n",
            " |      such as \"def\" or \"class\".\n",
            " |  \n",
            " |  islower(self, /)\n",
            " |      Return True if the string is a lowercase string, False otherwise.\n",
            " |      \n",
            " |      A string is lowercase if all cased characters in the string are lowercase and\n",
            " |      there is at least one cased character in the string.\n",
            " |  \n",
            " |  isnumeric(self, /)\n",
            " |      Return True if the string is a numeric string, False otherwise.\n",
            " |      \n",
            " |      A string is numeric if all characters in the string are numeric and there is at\n",
            " |      least one character in the string.\n",
            " |  \n",
            " |  isprintable(self, /)\n",
            " |      Return True if the string is printable, False otherwise.\n",
            " |      \n",
            " |      A string is printable if all of its characters are considered printable in\n",
            " |      repr() or if it is empty.\n",
            " |  \n",
            " |  isspace(self, /)\n",
            " |      Return True if the string is a whitespace string, False otherwise.\n",
            " |      \n",
            " |      A string is whitespace if all characters in the string are whitespace and there\n",
            " |      is at least one character in the string.\n",
            " |  \n",
            " |  istitle(self, /)\n",
            " |      Return True if the string is a title-cased string, False otherwise.\n",
            " |      \n",
            " |      In a title-cased string, upper- and title-case characters may only\n",
            " |      follow uncased characters and lowercase characters only cased ones.\n",
            " |  \n",
            " |  isupper(self, /)\n",
            " |      Return True if the string is an uppercase string, False otherwise.\n",
            " |      \n",
            " |      A string is uppercase if all cased characters in the string are uppercase and\n",
            " |      there is at least one cased character in the string.\n",
            " |  \n",
            " |  join(self, iterable, /)\n",
            " |      Concatenate any number of strings.\n",
            " |      \n",
            " |      The string whose method is called is inserted in between each given string.\n",
            " |      The result is returned as a new string.\n",
            " |      \n",
            " |      Example: '.'.join(['ab', 'pq', 'rs']) -> 'ab.pq.rs'\n",
            " |  \n",
            " |  ljust(self, width, fillchar=' ', /)\n",
            " |      Return a left-justified string of length width.\n",
            " |      \n",
            " |      Padding is done using the specified fill character (default is a space).\n",
            " |  \n",
            " |  lower(self, /)\n",
            " |      Return a copy of the string converted to lowercase.\n",
            " |  \n",
            " |  lstrip(self, chars=None, /)\n",
            " |      Return a copy of the string with leading whitespace removed.\n",
            " |      \n",
            " |      If chars is given and not None, remove characters in chars instead.\n",
            " |  \n",
            " |  partition(self, sep, /)\n",
            " |      Partition the string into three parts using the given separator.\n",
            " |      \n",
            " |      This will search for the separator in the string.  If the separator is found,\n",
            " |      returns a 3-tuple containing the part before the separator, the separator\n",
            " |      itself, and the part after it.\n",
            " |      \n",
            " |      If the separator is not found, returns a 3-tuple containing the original string\n",
            " |      and two empty strings.\n",
            " |  \n",
            " |  removeprefix(self, prefix, /)\n",
            " |      Return a str with the given prefix string removed if present.\n",
            " |      \n",
            " |      If the string starts with the prefix string, return string[len(prefix):].\n",
            " |      Otherwise, return a copy of the original string.\n",
            " |  \n",
            " |  removesuffix(self, suffix, /)\n",
            " |      Return a str with the given suffix string removed if present.\n",
            " |      \n",
            " |      If the string ends with the suffix string and that suffix is not empty,\n",
            " |      return string[:-len(suffix)]. Otherwise, return a copy of the original\n",
            " |      string.\n",
            " |  \n",
            " |  replace(self, old, new, count=-1, /)\n",
            " |      Return a copy with all occurrences of substring old replaced by new.\n",
            " |      \n",
            " |        count\n",
            " |          Maximum number of occurrences to replace.\n",
            " |          -1 (the default value) means replace all occurrences.\n",
            " |      \n",
            " |      If the optional argument count is given, only the first count occurrences are\n",
            " |      replaced.\n",
            " |  \n",
            " |  rfind(...)\n",
            " |      S.rfind(sub[, start[, end]]) -> int\n",
            " |      \n",
            " |      Return the highest index in S where substring sub is found,\n",
            " |      such that sub is contained within S[start:end].  Optional\n",
            " |      arguments start and end are interpreted as in slice notation.\n",
            " |      \n",
            " |      Return -1 on failure.\n",
            " |  \n",
            " |  rindex(...)\n",
            " |      S.rindex(sub[, start[, end]]) -> int\n",
            " |      \n",
            " |      Return the highest index in S where substring sub is found,\n",
            " |      such that sub is contained within S[start:end].  Optional\n",
            " |      arguments start and end are interpreted as in slice notation.\n",
            " |      \n",
            " |      Raises ValueError when the substring is not found.\n",
            " |  \n",
            " |  rjust(self, width, fillchar=' ', /)\n",
            " |      Return a right-justified string of length width.\n",
            " |      \n",
            " |      Padding is done using the specified fill character (default is a space).\n",
            " |  \n",
            " |  rpartition(self, sep, /)\n",
            " |      Partition the string into three parts using the given separator.\n",
            " |      \n",
            " |      This will search for the separator in the string, starting at the end. If\n",
            " |      the separator is found, returns a 3-tuple containing the part before the\n",
            " |      separator, the separator itself, and the part after it.\n",
            " |      \n",
            " |      If the separator is not found, returns a 3-tuple containing two empty strings\n",
            " |      and the original string.\n",
            " |  \n",
            " |  rsplit(self, /, sep=None, maxsplit=-1)\n",
            " |      Return a list of the substrings in the string, using sep as the separator string.\n",
            " |      \n",
            " |        sep\n",
            " |          The separator used to split the string.\n",
            " |      \n",
            " |          When set to None (the default value), will split on any whitespace\n",
            " |          character (including \\n \\r \\t \\f and spaces) and will discard\n",
            " |          empty strings from the result.\n",
            " |        maxsplit\n",
            " |          Maximum number of splits.\n",
            " |          -1 (the default value) means no limit.\n",
            " |      \n",
            " |      Splitting starts at the end of the string and works to the front.\n",
            " |  \n",
            " |  rstrip(self, chars=None, /)\n",
            " |      Return a copy of the string with trailing whitespace removed.\n",
            " |      \n",
            " |      If chars is given and not None, remove characters in chars instead.\n",
            " |  \n",
            " |  split(self, /, sep=None, maxsplit=-1)\n",
            " |      Return a list of the substrings in the string, using sep as the separator string.\n",
            " |      \n",
            " |        sep\n",
            " |          The separator used to split the string.\n",
            " |      \n",
            " |          When set to None (the default value), will split on any whitespace\n",
            " |          character (including \\n \\r \\t \\f and spaces) and will discard\n",
            " |          empty strings from the result.\n",
            " |        maxsplit\n",
            " |          Maximum number of splits.\n",
            " |          -1 (the default value) means no limit.\n",
            " |      \n",
            " |      Splitting starts at the front of the string and works to the end.\n",
            " |      \n",
            " |      Note, str.split() is mainly useful for data that has been intentionally\n",
            " |      delimited.  With natural text that includes punctuation, consider using\n",
            " |      the regular expression module.\n",
            " |  \n",
            " |  splitlines(self, /, keepends=False)\n",
            " |      Return a list of the lines in the string, breaking at line boundaries.\n",
            " |      \n",
            " |      Line breaks are not included in the resulting list unless keepends is given and\n",
            " |      true.\n",
            " |  \n",
            " |  startswith(...)\n",
            " |      S.startswith(prefix[, start[, end]]) -> bool\n",
            " |      \n",
            " |      Return True if S starts with the specified prefix, False otherwise.\n",
            " |      With optional start, test S beginning at that position.\n",
            " |      With optional end, stop comparing S at that position.\n",
            " |      prefix can also be a tuple of strings to try.\n",
            " |  \n",
            " |  strip(self, chars=None, /)\n",
            " |      Return a copy of the string with leading and trailing whitespace removed.\n",
            " |      \n",
            " |      If chars is given and not None, remove characters in chars instead.\n",
            " |  \n",
            " |  swapcase(self, /)\n",
            " |      Convert uppercase characters to lowercase and lowercase characters to uppercase.\n",
            " |  \n",
            " |  title(self, /)\n",
            " |      Return a version of the string where each word is titlecased.\n",
            " |      \n",
            " |      More specifically, words start with uppercased characters and all remaining\n",
            " |      cased characters have lower case.\n",
            " |  \n",
            " |  translate(self, table, /)\n",
            " |      Replace each character in the string using the given translation table.\n",
            " |      \n",
            " |        table\n",
            " |          Translation table, which must be a mapping of Unicode ordinals to\n",
            " |          Unicode ordinals, strings, or None.\n",
            " |      \n",
            " |      The table must implement lookup/indexing via __getitem__, for instance a\n",
            " |      dictionary or list.  If this operation raises LookupError, the character is\n",
            " |      left untouched.  Characters mapped to None are deleted.\n",
            " |  \n",
            " |  upper(self, /)\n",
            " |      Return a copy of the string converted to uppercase.\n",
            " |  \n",
            " |  zfill(self, width, /)\n",
            " |      Pad a numeric string with zeros on the left, to fill a field of the given width.\n",
            " |      \n",
            " |      The string is never truncated.\n",
            " |  \n",
            " |  ----------------------------------------------------------------------\n",
            " |  Static methods defined here:\n",
            " |  \n",
            " |  __new__(*args, **kwargs)\n",
            " |      Create and return a new object.  See help(type) for accurate signature.\n",
            " |  \n",
            " |  maketrans(...)\n",
            " |      Return a translation table usable for str.translate().\n",
            " |      \n",
            " |      If there is only one argument, it must be a dictionary mapping Unicode\n",
            " |      ordinals (integers) or characters to Unicode ordinals, strings or None.\n",
            " |      Character keys will be then converted to ordinals.\n",
            " |      If there are two arguments, they must be strings of equal length, and\n",
            " |      in the resulting dictionary, each character in x will be mapped to the\n",
            " |      character at the same position in y. If there is a third argument, it\n",
            " |      must be a string, whose characters will be mapped to None in the result.\n",
            "\n"
          ]
        }
      ]
    },
    {
      "cell_type": "markdown",
      "source": [
        "# capitalize(self, /)\n",
        "\n",
        "       Return a capitalized version of the string.\n",
        "       \n",
        "       More specifically, make the first character have upper case and the rest lower\n",
        "       case."
      ],
      "metadata": {
        "id": "jPTk-vFMgDUg"
      }
    },
    {
      "cell_type": "code",
      "source": [
        "my_string = \"hello world\"\n",
        "capitalized_string = my_string.capitalize()\n",
        "print(capitalized_string)  # Output: Hello world"
      ],
      "metadata": {
        "colab": {
          "base_uri": "https://localhost:8080/"
        },
        "id": "wjp0MW5NgMT1",
        "outputId": "2af3bcbf-d2b9-4b9a-d515-5142ba13dc5c"
      },
      "execution_count": null,
      "outputs": [
        {
          "output_type": "stream",
          "name": "stdout",
          "text": [
            "Hello world\n"
          ]
        }
      ]
    },
    {
      "cell_type": "markdown",
      "source": [
        "# casefold(self, /)\n",
        "\n",
        "       Return a version of the string suitable for caseless comparisons."
      ],
      "metadata": {
        "id": "4mVHzJPzgnPW"
      }
    },
    {
      "cell_type": "code",
      "source": [
        "text = \"Hello, World!\"\n",
        "casefolded_text = text.casefold()\n",
        "print(casefolded_text)"
      ],
      "metadata": {
        "colab": {
          "base_uri": "https://localhost:8080/"
        },
        "id": "Or0IfLXDgsGw",
        "outputId": "b209070c-73df-4582-b0f0-63111fe199ad"
      },
      "execution_count": null,
      "outputs": [
        {
          "output_type": "stream",
          "name": "stdout",
          "text": [
            "hello, world!\n"
          ]
        }
      ]
    },
    {
      "cell_type": "markdown",
      "source": [
        "# count(...)\n",
        "       \n",
        "       S.count(sub[, start[, end]]) -> int\n",
        "       \n",
        "       Return the number of non-overlapping occurrences of substring sub in\n",
        "       string S[start:end].  Optional arguments start and end are\n",
        "       interpreted as in slice notation."
      ],
      "metadata": {
        "id": "tP1ljyBMhEvc"
      }
    },
    {
      "cell_type": "code",
      "source": [
        "text=\"Hello, World!\"\n",
        "count=text.count(\"l\")\n",
        "print(count)"
      ],
      "metadata": {
        "colab": {
          "base_uri": "https://localhost:8080/"
        },
        "id": "VmOmoctkhOJO",
        "outputId": "e4e8038c-dee9-471b-fc71-e23e909eda38"
      },
      "execution_count": null,
      "outputs": [
        {
          "output_type": "stream",
          "name": "stdout",
          "text": [
            "3\n"
          ]
        }
      ]
    },
    {
      "cell_type": "markdown",
      "source": [
        "# encode(self, /, encoding='utf-8', errors='strict')\n",
        "\n",
        "       Encode the string using the codec registered for encoding.\n",
        "       \n",
        "       encoding\n",
        "         The encoding in which to encode the string.\n",
        "       errors\n",
        "         The error handling scheme to use for encoding errors.\n",
        "         The default is 'strict' meaning that encoding errors raise a\n",
        "         UnicodeEncodeError.  Other possible values are 'ignore', 'replace' and\n",
        "         'xmlcharrefreplace' as well as any other name registered with\n",
        "         codecs.register_error that can handle UnicodeEncodeErrors"
      ],
      "metadata": {
        "id": "Yv2_9Cmcha77"
      }
    },
    {
      "cell_type": "code",
      "source": [],
      "metadata": {
        "id": "lZw4FNtbhkvx"
      },
      "execution_count": null,
      "outputs": []
    },
    {
      "cell_type": "markdown",
      "source": [
        "# istitle(self, /)\n",
        "\n",
        "       Return True if the string is a title-cased string, False otherwise.\n",
        "       \n",
        "       In a title-cased string, upper- and title-case characters may only\n",
        "       follow uncased characters and lowercase characters only cased ones."
      ],
      "metadata": {
        "id": "H5rni7OEX-7n"
      }
    },
    {
      "cell_type": "code",
      "source": [
        "s=\"Omkar\"\n",
        "s.istitle()"
      ],
      "metadata": {
        "colab": {
          "base_uri": "https://localhost:8080/"
        },
        "id": "8XetGN8rZCDz",
        "outputId": "37fd2c65-56cb-4aea-dbd3-a4c687ace5c4"
      },
      "execution_count": null,
      "outputs": [
        {
          "output_type": "execute_result",
          "data": {
            "text/plain": [
              "True"
            ]
          },
          "metadata": {},
          "execution_count": 2
        }
      ]
    },
    {
      "cell_type": "markdown",
      "source": [
        "# join(self, iterable, /)\n",
        "\n",
        "       Concatenate any number of strings.\n",
        "       \n",
        "       The string whose method is called is inserted in between each given string.\n",
        "       The result is returned as a new string.\n",
        "       \n",
        "       Example: '.'.join(['ab', 'pq', 'rs']) -> 'ab.pq.rs'"
      ],
      "metadata": {
        "id": "nA7WnVrMalt5"
      }
    },
    {
      "cell_type": "code",
      "source": [
        "a=\".\"\n",
        "a.join(['om','ka','r'])"
      ],
      "metadata": {
        "colab": {
          "base_uri": "https://localhost:8080/",
          "height": 35
        },
        "id": "O4Hx3Dxqa21g",
        "outputId": "c0d4234e-8ce4-4169-8d3f-abc81a696f42"
      },
      "execution_count": null,
      "outputs": [
        {
          "output_type": "execute_result",
          "data": {
            "text/plain": [
              "'om.ka.r'"
            ],
            "application/vnd.google.colaboratory.intrinsic+json": {
              "type": "string"
            }
          },
          "metadata": {},
          "execution_count": 4
        }
      ]
    },
    {
      "cell_type": "markdown",
      "source": [
        "# ljust(self, width, fillchar=' ', /)\n",
        "\n",
        "       Return a left-justified string of length width.\n",
        "       \n",
        "       Padding is done using the specified fill character (default is a space)."
      ],
      "metadata": {
        "id": "WdJuz1wKbRvk"
      }
    },
    {
      "cell_type": "code",
      "source": [
        "text = \"Hello\"\n",
        "justified_text = text.ljust(10, '-')\n",
        "print(justified_text)"
      ],
      "metadata": {
        "colab": {
          "base_uri": "https://localhost:8080/"
        },
        "id": "wrTSgnMibay8",
        "outputId": "efaca0de-537a-459c-ab07-ed93f22850d3"
      },
      "execution_count": null,
      "outputs": [
        {
          "output_type": "stream",
          "name": "stdout",
          "text": [
            "Hello-----\n"
          ]
        }
      ]
    },
    {
      "cell_type": "markdown",
      "source": [
        "# lower(self, /)\n",
        "\n",
        "       Return a copy of the string converted to lowercase."
      ],
      "metadata": {
        "id": "kZLXYil-cA-z"
      }
    },
    {
      "cell_type": "code",
      "source": [
        "my_string = \"Hello World\"\n",
        "lowercase_string = my_string.lower()\n",
        "print(lowercase_string)"
      ],
      "metadata": {
        "colab": {
          "base_uri": "https://localhost:8080/"
        },
        "id": "TCzB1N_9cNAG",
        "outputId": "8bf43f92-1db8-47b7-bf6c-55ae8b6d4f36"
      },
      "execution_count": null,
      "outputs": [
        {
          "output_type": "stream",
          "name": "stdout",
          "text": [
            "hello world\n"
          ]
        }
      ]
    },
    {
      "cell_type": "markdown",
      "source": [
        "# lstrip(self, chars=None, /)\n",
        "\n",
        "       Return a copy of the string with leading whitespace removed.\n",
        "       \n",
        "       If chars is given and not None, remove characters in chars instead."
      ],
      "metadata": {
        "id": "EwITdsLpcmjj"
      }
    },
    {
      "cell_type": "code",
      "source": [
        "my_string = \"##--Hello World--##\"\n",
        "stripped_string = my_string.lstrip(\"#-\")\n",
        "print(stripped_string)"
      ],
      "metadata": {
        "colab": {
          "base_uri": "https://localhost:8080/"
        },
        "id": "gsk8Ynjud6iW",
        "outputId": "05f4ea27-852f-425d-823f-cdc4adced7a7"
      },
      "execution_count": null,
      "outputs": [
        {
          "output_type": "stream",
          "name": "stdout",
          "text": [
            "Hello World--##\n"
          ]
        }
      ]
    },
    {
      "cell_type": "code",
      "source": [
        "my_string = \"   Hello World   \"\n",
        "stripped_string = my_string.lstrip()\n",
        "print(stripped_string)"
      ],
      "metadata": {
        "colab": {
          "base_uri": "https://localhost:8080/"
        },
        "id": "BSuoAbPPd5ia",
        "outputId": "4b1e24e7-349e-48ae-9d72-cc9964858346"
      },
      "execution_count": null,
      "outputs": [
        {
          "output_type": "stream",
          "name": "stdout",
          "text": [
            "Hello World   \n"
          ]
        }
      ]
    },
    {
      "cell_type": "markdown",
      "source": [
        "# partition(self, sep, /)\n",
        "\n",
        "       Partition the string into three parts using the given separator.\n",
        "       \n",
        "       This will search for the separator in the string.  If the separator is found,\n",
        "       returns a 3-tuple containing the part before the separator, the separator\n",
        "       itself, and the part after it.\n",
        "       \n",
        "       If the separator is not found, returns a 3-tuple containing the original string\n",
        "       and two empty strings."
      ],
      "metadata": {
        "id": "epWyP3AreM0f"
      }
    },
    {
      "cell_type": "code",
      "source": [
        "my_string = \"hello-world-again\"\n",
        "partitioned_string = my_string.partition(\"-\")\n",
        "print(partitioned_string)"
      ],
      "metadata": {
        "colab": {
          "base_uri": "https://localhost:8080/"
        },
        "id": "M1nmKPXj6wQp",
        "outputId": "5533cf7f-d986-43ab-ff2c-e395abc0b65f"
      },
      "execution_count": null,
      "outputs": [
        {
          "output_type": "stream",
          "name": "stdout",
          "text": [
            "('hello', '-', 'world-again')\n"
          ]
        }
      ]
    },
    {
      "cell_type": "markdown",
      "source": [
        "# removeprefix(self, prefix, /)\n",
        "\n",
        "       Return a str with the given prefix string removed if present.\n",
        "       \n",
        "       If the string starts with the prefix string, return string[len(prefix):].\n",
        "       Otherwise, return a copy of the original string."
      ],
      "metadata": {
        "id": "kNuNwS1-7LyH"
      }
    },
    {
      "cell_type": "code",
      "source": [
        "my_string = \"hello-world\"\n",
        "removed_prefix = my_string.removeprefix(\"hello-\")\n",
        "print(removed_prefix)"
      ],
      "metadata": {
        "colab": {
          "base_uri": "https://localhost:8080/"
        },
        "id": "_dQA9RHE7VMb",
        "outputId": "856a693c-c486-4a2d-fd2b-e8c15a41fe82"
      },
      "execution_count": null,
      "outputs": [
        {
          "output_type": "stream",
          "name": "stdout",
          "text": [
            "world\n"
          ]
        }
      ]
    },
    {
      "cell_type": "markdown",
      "source": [
        "# removesuffix(self, suffix, /)\n",
        "\n",
        "       Return a str with the given suffix string removed if present.\n",
        "       \n",
        "       If the string ends with the suffix string and that suffix is not empty,\n",
        "       return string[:-len(suffix)]. Otherwise, return a copy of the original\n",
        "       string."
      ],
      "metadata": {
        "id": "pZM__Q3G7l04"
      }
    },
    {
      "cell_type": "code",
      "source": [
        "my_string = \"hello-world\"\n",
        "removed_suffix = my_string.removesuffix(\"-world\")\n",
        "print(removed_suffix)"
      ],
      "metadata": {
        "colab": {
          "base_uri": "https://localhost:8080/"
        },
        "id": "cHnDxv0K7_qX",
        "outputId": "f7efd34c-1bf4-4cff-d033-ed4ad4c6c7ae"
      },
      "execution_count": null,
      "outputs": [
        {
          "output_type": "stream",
          "name": "stdout",
          "text": [
            "hello\n"
          ]
        }
      ]
    },
    {
      "cell_type": "markdown",
      "source": [
        "# replace(self, old, new, count=-1, /)\n",
        "\n",
        "       Return a copy with all occurrences of substring old replaced by new.\n",
        "       \n",
        "         count\n",
        "           Maximum number of occurrences to replace.\n",
        "           -1 (the default value) means replace all occurrences.\n",
        "       \n",
        "       If the optional argument count is given, only the first count occurrences are\n",
        "       replaced."
      ],
      "metadata": {
        "id": "poTDL1_M7zLs"
      }
    },
    {
      "cell_type": "code",
      "source": [
        "my_string =\"hello world world\"\n",
        "new_string =my_string.replace(\"world\",\"python\")\n",
        "print(new_string)"
      ],
      "metadata": {
        "colab": {
          "base_uri": "https://localhost:8080/"
        },
        "id": "K3Cw0QPQ79b8",
        "outputId": "50d0c0e6-9377-413d-f80e-04f039f32cda"
      },
      "execution_count": null,
      "outputs": [
        {
          "output_type": "stream",
          "name": "stdout",
          "text": [
            "hello python python\n"
          ]
        }
      ]
    },
    {
      "cell_type": "markdown",
      "source": [
        "# rfind(...)\n",
        "\n",
        "       S.rfind(sub[, start[, end]]) -> int\n",
        "       \n",
        "       Return the highest index in S where substring sub is found,\n",
        "       such that sub is contained within S[start:end].  Optional\n",
        "       arguments start and end are interpreted as in slice notation.\n",
        "       \n",
        "       Return -1 on failure."
      ],
      "metadata": {
        "id": "B9FzXK0G84XW"
      }
    },
    {
      "cell_type": "code",
      "source": [
        "my_string=\"hello world world\"\n",
        "index=my_string.rfind(\"world\")\n",
        "print(index)"
      ],
      "metadata": {
        "colab": {
          "base_uri": "https://localhost:8080/"
        },
        "id": "fEYgUnsh9Hb5",
        "outputId": "c0fe5692-4d9a-4e71-8329-7beade1064ab"
      },
      "execution_count": null,
      "outputs": [
        {
          "output_type": "stream",
          "name": "stdout",
          "text": [
            "12\n"
          ]
        }
      ]
    },
    {
      "cell_type": "markdown",
      "source": [
        "# rindex(...)\n",
        "\n",
        "       S.rindex(sub[, start[, end]]) -> int\n",
        "       \n",
        "       Return the highest index in S where substring sub is found,\n",
        "       such that sub is contained within S[start:end].  Optional\n",
        "       arguments start and end are interpreted as in slice notation.\n",
        "       \n",
        "       Raises ValueError when the substring is not found."
      ],
      "metadata": {
        "id": "KwdXOy6f-cUh"
      }
    },
    {
      "cell_type": "code",
      "source": [
        "my_string=\"hello world world\"\n",
        "index=my_string.rindex(\"world\")\n",
        "print(index)"
      ],
      "metadata": {
        "colab": {
          "base_uri": "https://localhost:8080/"
        },
        "id": "YjSRxPMM-nLs",
        "outputId": "7acc50e7-5dbe-4cc5-b998-5cba44aae1d0"
      },
      "execution_count": null,
      "outputs": [
        {
          "output_type": "stream",
          "name": "stdout",
          "text": [
            "12\n"
          ]
        }
      ]
    },
    {
      "cell_type": "markdown",
      "source": [
        "# rjust(self, width, fillchar=' ', /)\n",
        "\n",
        "       Return a right-justified string of length width.\n",
        "       \n",
        "       Padding is done using the specified fill character (default is a space)."
      ],
      "metadata": {
        "id": "Ln4iAmWl_tX5"
      }
    },
    {
      "cell_type": "code",
      "source": [
        "text=\"hello\"\n",
        "justified_text=text.rjust(10,\"-\")\n",
        "print(justified_text)\n"
      ],
      "metadata": {
        "colab": {
          "base_uri": "https://localhost:8080/"
        },
        "id": "Q74eGOS__0mJ",
        "outputId": "d573c7e1-cee8-4fde-f19d-6c8e297e39eb"
      },
      "execution_count": null,
      "outputs": [
        {
          "output_type": "stream",
          "name": "stdout",
          "text": [
            "-----hello\n"
          ]
        }
      ]
    },
    {
      "cell_type": "markdown",
      "source": [
        "# rpartition(self, sep, /)\n",
        "\n",
        "       Partition the string into three parts using the given separator.\n",
        "       \n",
        "       This will search for the separator in the string, starting at the end. If\n",
        "       the separator is found, returns a 3-tuple containing the part before the\n",
        "       separator, the separator itself, and the part after it.\n",
        "       \n",
        "       If the separator is not found, returns a 3-tuple containing two empty strings\n",
        "       and the original string."
      ],
      "metadata": {
        "id": "NrDlGuwyE-qL"
      }
    },
    {
      "cell_type": "code",
      "source": [
        "my_string = \"hello-world-again\"\n",
        "partitioned_string = my_string.rpartition(\"-\")\n",
        "print(partitioned_string)"
      ],
      "metadata": {
        "colab": {
          "base_uri": "https://localhost:8080/"
        },
        "id": "y85nUKYkFMg4",
        "outputId": "825cbfcd-31cd-4a8a-f22e-3cc9508742c3"
      },
      "execution_count": null,
      "outputs": [
        {
          "output_type": "stream",
          "name": "stdout",
          "text": [
            "('hello-world', '-', 'again')\n"
          ]
        }
      ]
    },
    {
      "cell_type": "markdown",
      "source": [
        "# rsplit(self, /, sep=None, maxsplit=-1)\n",
        "\n",
        "       Return a list of the substrings in the string, using sep as the separator string.\n",
        "       \n",
        "         sep\n",
        "           The separator used to split the string.\n",
        "       \n",
        "           When set to None (the default value), will split on any whitespace\n",
        "           character (including \\n \\r \\t \\f and spaces) and will discard\n",
        "           empty strings from the result.\n",
        "         maxsplit\n",
        "           Maximum number of splits.\n",
        "           -1 (the default value) means no limit.\n",
        "       \n",
        "       Splitting starts at the end of the string and works to the front."
      ],
      "metadata": {
        "id": "b8rAK8S5F6ST"
      }
    },
    {
      "cell_type": "code",
      "source": [
        "text = \"apple,banana,orange\"\n",
        "result = text.rsplit(\",\", 1)\n",
        "print(result)"
      ],
      "metadata": {
        "colab": {
          "base_uri": "https://localhost:8080/"
        },
        "id": "GxH6exFfGJPj",
        "outputId": "c85a7af0-afaa-4689-b8da-6f8742a56d39"
      },
      "execution_count": null,
      "outputs": [
        {
          "output_type": "stream",
          "name": "stdout",
          "text": [
            "['apple,banana', 'orange']\n"
          ]
        }
      ]
    },
    {
      "cell_type": "markdown",
      "source": [
        "# rstrip(self, chars=None, /)\n",
        "\n",
        "       Return a copy of the string with trailing whitespace removed.\n",
        "       \n",
        "       If chars is given and not None, remove characters in chars instead."
      ],
      "metadata": {
        "id": "C2bM8SgFGiQR"
      }
    },
    {
      "cell_type": "code",
      "source": [
        "my_string = \"   Hello World   \"\n",
        "stripped_string = my_string.rstrip()\n",
        "print(stripped_string)"
      ],
      "metadata": {
        "colab": {
          "base_uri": "https://localhost:8080/"
        },
        "id": "vfNN7s_kGoav",
        "outputId": "6b7e60c8-6891-4fa5-e845-64eb93d06305"
      },
      "execution_count": null,
      "outputs": [
        {
          "output_type": "stream",
          "name": "stdout",
          "text": [
            "   Hello World\n"
          ]
        }
      ]
    },
    {
      "cell_type": "markdown",
      "source": [
        "# split(self, /, sep=None, maxsplit=-1)\n",
        "\n",
        "       Return a list of the substrings in the string, using sep as the separator string.\n",
        "       \n",
        "         sep\n",
        "           The separator used to split the string.\n",
        "       \n",
        "           When set to None (the default value), will split on any whitespace\n",
        "           character (including \\n \\r \\t \\f and spaces) and will discard\n",
        "           empty strings from the result.\n",
        "         maxsplit\n",
        "           Maximum number of splits.\n",
        "           -1 (the default value) means no limit.\n",
        "       \n",
        "       Splitting starts at the front of the string and works to the end.\n",
        "       \n",
        "       Note, str.split() is mainly useful for data that has been intentionally\n",
        "       delimited.  With natural text that includes punctuation, consider using\n",
        "       the regular expression module."
      ],
      "metadata": {
        "id": "Su4u-uRDG6HN"
      }
    },
    {
      "cell_type": "code",
      "source": [
        "text = \"This is a sentence.\"\n",
        "words = text.split()\n",
        "print(words)"
      ],
      "metadata": {
        "colab": {
          "base_uri": "https://localhost:8080/"
        },
        "id": "moNMTdiLHLlB",
        "outputId": "e72494e4-2f04-4618-aa28-4dc9c1fa77b2"
      },
      "execution_count": null,
      "outputs": [
        {
          "output_type": "stream",
          "name": "stdout",
          "text": [
            "['This', 'is', 'a', 'sentence.']\n"
          ]
        }
      ]
    },
    {
      "cell_type": "markdown",
      "source": [
        "# splitlines(self, /, keepends=False)\n",
        "\n",
        "       Return a list of the lines in the string, breaking at line boundaries.\n",
        "       \n",
        "       Line breaks are not included in the resulting list unless keepends is given and\n",
        "       true."
      ],
      "metadata": {
        "id": "2bKpJYb8Hpgg"
      }
    },
    {
      "cell_type": "code",
      "source": [
        "text = \"Line 1\\nLine 2\\r\\nLine 3\"\n",
        "lines = text.splitlines()\n",
        "print(lines)"
      ],
      "metadata": {
        "colab": {
          "base_uri": "https://localhost:8080/"
        },
        "id": "zeEKWO_hHxpL",
        "outputId": "796102af-6c74-430c-b744-81dee13a1505"
      },
      "execution_count": null,
      "outputs": [
        {
          "output_type": "stream",
          "name": "stdout",
          "text": [
            "['Line 1', 'Line 2', 'Line 3']\n"
          ]
        }
      ]
    },
    {
      "cell_type": "markdown",
      "source": [
        "# startswith(...)\n",
        "\n",
        "       S.startswith(prefix[, start[, end]]) -> bool\n",
        "       \n",
        "       Return True if S starts with the specified prefix, False otherwise.\n",
        "       With optional start, test S beginning at that position.\n",
        "       With optional end, stop comparing S at that position.\n",
        "       prefix can also be a tuple of strings to try."
      ],
      "metadata": {
        "id": "LWTYGPZIIFNb"
      }
    },
    {
      "cell_type": "code",
      "source": [
        "my_string=\"omkar\"\n",
        "new_string=my_string.startswith(\"o\")\n",
        "print(new_string)"
      ],
      "metadata": {
        "colab": {
          "base_uri": "https://localhost:8080/"
        },
        "id": "_O1mOMwnIPcx",
        "outputId": "fbd515db-e92a-48b9-9ce0-51378e494c7b"
      },
      "execution_count": null,
      "outputs": [
        {
          "output_type": "stream",
          "name": "stdout",
          "text": [
            "True\n"
          ]
        }
      ]
    },
    {
      "cell_type": "markdown",
      "source": [
        "# strip(self, chars=None, /)\n",
        "\n",
        "       Return a copy of the string with leading and trailing whitespace removed.\n",
        "       \n",
        "       If chars is given and not None, remove characters in chars instead."
      ],
      "metadata": {
        "id": "Mv9QMOfWI2vK"
      }
    },
    {
      "cell_type": "code",
      "source": [
        "my_string = \"   Hello World   \"\n",
        "stripped_string = my_string.strip()\n",
        "print(stripped_string)"
      ],
      "metadata": {
        "colab": {
          "base_uri": "https://localhost:8080/"
        },
        "id": "2TBTTrM4I8iT",
        "outputId": "41e689c1-bf6a-487d-d5eb-7af5060e39c9"
      },
      "execution_count": null,
      "outputs": [
        {
          "output_type": "stream",
          "name": "stdout",
          "text": [
            "Hello World\n"
          ]
        }
      ]
    },
    {
      "cell_type": "markdown",
      "source": [
        "# swapcase(self, /)\n",
        "\n",
        "       Convert uppercase characters to lowercase and lowercase characters to uppercase."
      ],
      "metadata": {
        "id": "1rrXxXk8JOhc"
      }
    },
    {
      "cell_type": "code",
      "source": [
        "my_string = \"Hello World 123!\"\n",
        "swapped_string = my_string.swapcase()\n",
        "print(swapped_string)"
      ],
      "metadata": {
        "colab": {
          "base_uri": "https://localhost:8080/"
        },
        "id": "QjSm9janJYaw",
        "outputId": "7b418cc7-d48e-4300-ce64-2a09781f89ca"
      },
      "execution_count": null,
      "outputs": [
        {
          "output_type": "stream",
          "name": "stdout",
          "text": [
            "hELLO wORLD 123!\n"
          ]
        }
      ]
    },
    {
      "cell_type": "markdown",
      "source": [
        "# title(self, /)\n",
        "\n",
        "       Return a version of the string where each word is titlecased.\n",
        "       \n",
        "       More specifically, words start with uppercased characters and all remaining\n",
        "       cased characters have lower case"
      ],
      "metadata": {
        "id": "yhl2mnTcJvf7"
      }
    },
    {
      "cell_type": "code",
      "source": [
        "my_string = \"hello world\"\n",
        "title_string = my_string.title()\n",
        "print(title_string)"
      ],
      "metadata": {
        "colab": {
          "base_uri": "https://localhost:8080/"
        },
        "id": "IwJT1Sc9J8CO",
        "outputId": "4f8a3317-1c9f-462d-ca84-3128d21639e9"
      },
      "execution_count": null,
      "outputs": [
        {
          "output_type": "stream",
          "name": "stdout",
          "text": [
            "Hello World\n"
          ]
        }
      ]
    },
    {
      "cell_type": "markdown",
      "source": [
        "# translate(self, table, /)\n",
        "\n",
        "       Replace each character in the string using the given translation table.\n",
        "       \n",
        "         table\n",
        "           Translation table, which must be a mapping of Unicode ordinals to\n",
        "           Unicode ordinals, strings, or None.\n",
        "       \n",
        "       The table must implement lookup/indexing via __getitem__, for instance a\n",
        "       dictionary or list.  If this operation raises LookupError, the character is\n",
        "       left untouched.  Characters mapped to None are deleted."
      ],
      "metadata": {
        "id": "auJJ9gu3KLWc"
      }
    },
    {
      "cell_type": "code",
      "source": [
        "table = str.maketrans(\"abc\", \"123\")\n",
        "my_string = \"abcdefg\"\n",
        "translated_string = my_string.translate(table)\n",
        "print(translated_string)"
      ],
      "metadata": {
        "colab": {
          "base_uri": "https://localhost:8080/"
        },
        "id": "pScokqHWKYND",
        "outputId": "f33dc8bf-e26e-4326-9780-f666285cff27"
      },
      "execution_count": null,
      "outputs": [
        {
          "output_type": "stream",
          "name": "stdout",
          "text": [
            "123defg\n"
          ]
        }
      ]
    },
    {
      "cell_type": "markdown",
      "source": [
        "# upper(self, /)\n",
        "\n",
        "       Return a copy of the string converted to uppercase."
      ],
      "metadata": {
        "id": "ZbOX8YpuOdQ0"
      }
    },
    {
      "cell_type": "code",
      "source": [
        "my_string = \"hello world\"\n",
        "uppercase_string = my_string.upper()\n",
        "print(uppercase_string)"
      ],
      "metadata": {
        "colab": {
          "base_uri": "https://localhost:8080/"
        },
        "id": "SV0kFR7BO5IZ",
        "outputId": "289604b1-72ee-4425-c5a5-52289f2949ef"
      },
      "execution_count": null,
      "outputs": [
        {
          "output_type": "stream",
          "name": "stdout",
          "text": [
            "HELLO WORLD\n"
          ]
        }
      ]
    },
    {
      "cell_type": "markdown",
      "source": [
        "# zfill(self, width, /)\n",
        "\n",
        "       Pad a numeric string with zeros on the left, to fill a field of the given width.\n",
        "       \n",
        "       The string is never truncated."
      ],
      "metadata": {
        "id": "sSSBZERFPLpE"
      }
    },
    {
      "cell_type": "code",
      "source": [
        "numeric_string = \"42\"\n",
        "padded_string = numeric_string.zfill(5)\n",
        "print(padded_string)"
      ],
      "metadata": {
        "colab": {
          "base_uri": "https://localhost:8080/"
        },
        "id": "KKB9IlqCPRfb",
        "outputId": "be1c1279-622b-49a2-82e3-60c59888ff63"
      },
      "execution_count": null,
      "outputs": [
        {
          "output_type": "stream",
          "name": "stdout",
          "text": [
            "00042\n"
          ]
        }
      ]
    },
    {
      "cell_type": "markdown",
      "source": [
        "# set"
      ],
      "metadata": {
        "id": "jgGFh7ByPrjo"
      }
    },
    {
      "cell_type": "markdown",
      "source": [
        "# help(set)"
      ],
      "metadata": {
        "id": "iHBL40CQUDpB"
      }
    },
    {
      "cell_type": "code",
      "source": [
        "help(set)"
      ],
      "metadata": {
        "colab": {
          "base_uri": "https://localhost:8080/"
        },
        "id": "uQxju0RlQFLO",
        "outputId": "6a35a106-67fb-499f-f09b-f79286292f9b"
      },
      "execution_count": null,
      "outputs": [
        {
          "output_type": "stream",
          "name": "stdout",
          "text": [
            "Help on class set in module builtins:\n",
            "\n",
            "class set(object)\n",
            " |  set() -> new empty set object\n",
            " |  set(iterable) -> new set object\n",
            " |  \n",
            " |  Build an unordered collection of unique elements.\n",
            " |  \n",
            " |  Methods defined here:\n",
            " |  \n",
            " |  __and__(self, value, /)\n",
            " |      Return self&value.\n",
            " |  \n",
            " |  __contains__(...)\n",
            " |      x.__contains__(y) <==> y in x.\n",
            " |  \n",
            " |  __eq__(self, value, /)\n",
            " |      Return self==value.\n",
            " |  \n",
            " |  __ge__(self, value, /)\n",
            " |      Return self>=value.\n",
            " |  \n",
            " |  __getattribute__(self, name, /)\n",
            " |      Return getattr(self, name).\n",
            " |  \n",
            " |  __gt__(self, value, /)\n",
            " |      Return self>value.\n",
            " |  \n",
            " |  __iand__(self, value, /)\n",
            " |      Return self&=value.\n",
            " |  \n",
            " |  __init__(self, /, *args, **kwargs)\n",
            " |      Initialize self.  See help(type(self)) for accurate signature.\n",
            " |  \n",
            " |  __ior__(self, value, /)\n",
            " |      Return self|=value.\n",
            " |  \n",
            " |  __isub__(self, value, /)\n",
            " |      Return self-=value.\n",
            " |  \n",
            " |  __iter__(self, /)\n",
            " |      Implement iter(self).\n",
            " |  \n",
            " |  __ixor__(self, value, /)\n",
            " |      Return self^=value.\n",
            " |  \n",
            " |  __le__(self, value, /)\n",
            " |      Return self<=value.\n",
            " |  \n",
            " |  __len__(self, /)\n",
            " |      Return len(self).\n",
            " |  \n",
            " |  __lt__(self, value, /)\n",
            " |      Return self<value.\n",
            " |  \n",
            " |  __ne__(self, value, /)\n",
            " |      Return self!=value.\n",
            " |  \n",
            " |  __or__(self, value, /)\n",
            " |      Return self|value.\n",
            " |  \n",
            " |  __rand__(self, value, /)\n",
            " |      Return value&self.\n",
            " |  \n",
            " |  __reduce__(...)\n",
            " |      Return state information for pickling.\n",
            " |  \n",
            " |  __repr__(self, /)\n",
            " |      Return repr(self).\n",
            " |  \n",
            " |  __ror__(self, value, /)\n",
            " |      Return value|self.\n",
            " |  \n",
            " |  __rsub__(self, value, /)\n",
            " |      Return value-self.\n",
            " |  \n",
            " |  __rxor__(self, value, /)\n",
            " |      Return value^self.\n",
            " |  \n",
            " |  __sizeof__(...)\n",
            " |      S.__sizeof__() -> size of S in memory, in bytes\n",
            " |  \n",
            " |  __sub__(self, value, /)\n",
            " |      Return self-value.\n",
            " |  \n",
            " |  __xor__(self, value, /)\n",
            " |      Return self^value.\n",
            " |  \n",
            " |  add(...)\n",
            " |      Add an element to a set.\n",
            " |      \n",
            " |      This has no effect if the element is already present.\n",
            " |  \n",
            " |  clear(...)\n",
            " |      Remove all elements from this set.\n",
            " |  \n",
            " |  copy(...)\n",
            " |      Return a shallow copy of a set.\n",
            " |  \n",
            " |  difference(...)\n",
            " |      Return the difference of two or more sets as a new set.\n",
            " |      \n",
            " |      (i.e. all elements that are in this set but not the others.)\n",
            " |  \n",
            " |  difference_update(...)\n",
            " |      Remove all elements of another set from this set.\n",
            " |  \n",
            " |  discard(...)\n",
            " |      Remove an element from a set if it is a member.\n",
            " |      \n",
            " |      Unlike set.remove(), the discard() method does not raise\n",
            " |      an exception when an element is missing from the set.\n",
            " |  \n",
            " |  intersection(...)\n",
            " |      Return the intersection of two sets as a new set.\n",
            " |      \n",
            " |      (i.e. all elements that are in both sets.)\n",
            " |  \n",
            " |  intersection_update(...)\n",
            " |      Update a set with the intersection of itself and another.\n",
            " |  \n",
            " |  isdisjoint(...)\n",
            " |      Return True if two sets have a null intersection.\n",
            " |  \n",
            " |  issubset(self, other, /)\n",
            " |      Test whether every element in the set is in other.\n",
            " |  \n",
            " |  issuperset(self, other, /)\n",
            " |      Test whether every element in other is in the set.\n",
            " |  \n",
            " |  pop(...)\n",
            " |      Remove and return an arbitrary set element.\n",
            " |      Raises KeyError if the set is empty.\n",
            " |  \n",
            " |  remove(...)\n",
            " |      Remove an element from a set; it must be a member.\n",
            " |      \n",
            " |      If the element is not a member, raise a KeyError.\n",
            " |  \n",
            " |  symmetric_difference(...)\n",
            " |      Return the symmetric difference of two sets as a new set.\n",
            " |      \n",
            " |      (i.e. all elements that are in exactly one of the sets.)\n",
            " |  \n",
            " |  symmetric_difference_update(...)\n",
            " |      Update a set with the symmetric difference of itself and another.\n",
            " |  \n",
            " |  union(...)\n",
            " |      Return the union of sets as a new set.\n",
            " |      \n",
            " |      (i.e. all elements that are in either set.)\n",
            " |  \n",
            " |  update(...)\n",
            " |      Update a set with the union of itself and others.\n",
            " |  \n",
            " |  ----------------------------------------------------------------------\n",
            " |  Class methods defined here:\n",
            " |  \n",
            " |  __class_getitem__(...)\n",
            " |      See PEP 585\n",
            " |  \n",
            " |  ----------------------------------------------------------------------\n",
            " |  Static methods defined here:\n",
            " |  \n",
            " |  __new__(*args, **kwargs)\n",
            " |      Create and return a new object.  See help(type) for accurate signature.\n",
            " |  \n",
            " |  ----------------------------------------------------------------------\n",
            " |  Data and other attributes defined here:\n",
            " |  \n",
            " |  __hash__ = None\n",
            "\n"
          ]
        }
      ]
    },
    {
      "cell_type": "markdown",
      "source": [
        "# add(...)\n",
        "\n",
        "       Add an element to a set.\n",
        "       \n",
        "       This has no effect if the element is already present."
      ],
      "metadata": {
        "id": "0jLvxpzwRFEt"
      }
    },
    {
      "cell_type": "code",
      "source": [
        "my_set = {1, 2, 3}\n",
        "my_set.add(4)\n",
        "print(my_set)\n"
      ],
      "metadata": {
        "colab": {
          "base_uri": "https://localhost:8080/"
        },
        "id": "I-fIo85HRMdO",
        "outputId": "319f4dba-ed15-4f3a-d6ab-7d1718096afe"
      },
      "execution_count": null,
      "outputs": [
        {
          "output_type": "stream",
          "name": "stdout",
          "text": [
            "{1, 2, 3, 4}\n"
          ]
        }
      ]
    },
    {
      "cell_type": "markdown",
      "source": [
        "# clear(...)\n",
        "\n",
        "       Remove all elements from this set."
      ],
      "metadata": {
        "id": "GWutHpNVRwyY"
      }
    },
    {
      "cell_type": "code",
      "source": [
        "my_set={1,2,3}\n",
        "my_set.clear()\n",
        "print(my_set)"
      ],
      "metadata": {
        "colab": {
          "base_uri": "https://localhost:8080/"
        },
        "id": "UvbviVbgR04U",
        "outputId": "14ae9240-6803-41b7-d579-df825b60ea99"
      },
      "execution_count": null,
      "outputs": [
        {
          "output_type": "stream",
          "name": "stdout",
          "text": [
            "set()\n"
          ]
        }
      ]
    },
    {
      "cell_type": "markdown",
      "source": [
        "# copy(...)\n",
        "\n",
        "       Return a shallow copy of a set."
      ],
      "metadata": {
        "id": "6DUkgW0wSIWD"
      }
    },
    {
      "cell_type": "code",
      "source": [
        "my_set={4,5,6}\n",
        "new_set=my_set.copy()\n",
        "print(new_set)"
      ],
      "metadata": {
        "colab": {
          "base_uri": "https://localhost:8080/"
        },
        "id": "0lf6dH0JSMy7",
        "outputId": "b72e6583-e6f8-4332-8783-0672cfc9e4b2"
      },
      "execution_count": null,
      "outputs": [
        {
          "output_type": "stream",
          "name": "stdout",
          "text": [
            "{4, 5, 6}\n"
          ]
        }
      ]
    },
    {
      "cell_type": "markdown",
      "source": [
        "#  difference(...)\n",
        "\n",
        "       Return the difference of two or more sets as a new set."
      ],
      "metadata": {
        "id": "OTeH89v7Sjeb"
      }
    },
    {
      "cell_type": "code",
      "source": [
        "set1 = {1, 2, 3, 4, 5}\n",
        "set2 = {3, 4, 6, 7}\n",
        "difference_set = set1.difference(set2)\n",
        "print(difference_set)\n",
        "difference_set = set1 - set2\n",
        "print(difference_set)"
      ],
      "metadata": {
        "colab": {
          "base_uri": "https://localhost:8080/"
        },
        "id": "TYx3MQZlZC0E",
        "outputId": "83e80116-991a-4d86-fff2-902b13e09540"
      },
      "execution_count": null,
      "outputs": [
        {
          "output_type": "stream",
          "name": "stdout",
          "text": [
            "{1, 2, 5}\n",
            "{1, 2, 5}\n"
          ]
        }
      ]
    },
    {
      "cell_type": "markdown",
      "source": [
        "# difference_update(...)\n",
        "\n",
        "       Remove all elements of another set from this set."
      ],
      "metadata": {
        "id": "uyygstGmZUMh"
      }
    },
    {
      "cell_type": "code",
      "source": [
        "set1 = {1, 2, 3, 4, 5}\n",
        "set2 = {3, 4, 6, 7}\n",
        "set1.difference_update(set2)\n",
        "print(set1)"
      ],
      "metadata": {
        "colab": {
          "base_uri": "https://localhost:8080/"
        },
        "id": "6M9y4StiZZ4-",
        "outputId": "8b2017f9-b22a-4ebd-fd34-d9c10d93bcaa"
      },
      "execution_count": null,
      "outputs": [
        {
          "output_type": "stream",
          "name": "stdout",
          "text": [
            "{1, 2, 5}\n"
          ]
        }
      ]
    },
    {
      "cell_type": "markdown",
      "source": [
        "# discard(...)\n",
        "\n",
        "       Remove an element from a set if it is a member.\n",
        "       \n",
        "       Unlike set.remove(), the discard() method does not raise\n",
        "       an exception when an element is missing from the set."
      ],
      "metadata": {
        "id": "PPGpK3hlaAdg"
      }
    },
    {
      "cell_type": "code",
      "source": [
        "my_set = {1, 2, 3, 4, 5}\n",
        "my_set.discard(3)\n",
        "print(my_set)"
      ],
      "metadata": {
        "colab": {
          "base_uri": "https://localhost:8080/"
        },
        "id": "w_Vhiqy6aLe0",
        "outputId": "61736c00-ee05-474e-b5f0-9cafd277f3f8"
      },
      "execution_count": null,
      "outputs": [
        {
          "output_type": "stream",
          "name": "stdout",
          "text": [
            "{1, 2, 4, 5}\n"
          ]
        }
      ]
    },
    {
      "cell_type": "markdown",
      "source": [
        "# intersection(...)\n",
        "\n",
        "       Return the intersection of two sets as a new set.\n",
        "       (i.e. all elements that are in both sets.)"
      ],
      "metadata": {
        "id": "sNAhU6xLaiBQ"
      }
    },
    {
      "cell_type": "code",
      "source": [
        "set1 = {1, 2, 3, 4}\n",
        "set2 = {3, 4, 5, 6}\n",
        "intersection_set = set1.intersection(set2)\n",
        "print(intersection_set)\n",
        "intersection_set = set1 & set2\n",
        "print(intersection_set)"
      ],
      "metadata": {
        "colab": {
          "base_uri": "https://localhost:8080/"
        },
        "id": "51V3cHl-asOl",
        "outputId": "8dd8f16a-5b28-4c81-8ddc-8664d86f78bf"
      },
      "execution_count": null,
      "outputs": [
        {
          "output_type": "stream",
          "name": "stdout",
          "text": [
            "{3, 4}\n",
            "{3, 4}\n"
          ]
        }
      ]
    },
    {
      "cell_type": "markdown",
      "source": [
        "# intersection_update(...)\n",
        "\n",
        "       Update a set with the intersection of itself and another."
      ],
      "metadata": {
        "id": "13zxnXW5bCt9"
      }
    },
    {
      "cell_type": "code",
      "source": [
        "set1 = {1, 2, 3}\n",
        "set2 = {3, 4, 5}\n",
        "set1.intersection_update(set2)\n",
        "print(set1)"
      ],
      "metadata": {
        "colab": {
          "base_uri": "https://localhost:8080/"
        },
        "id": "TzEOsZsMbHWe",
        "outputId": "6604668c-297f-4368-e475-8e5671c3b84b"
      },
      "execution_count": null,
      "outputs": [
        {
          "output_type": "stream",
          "name": "stdout",
          "text": [
            "{3}\n"
          ]
        }
      ]
    },
    {
      "cell_type": "markdown",
      "source": [
        "# isdisjoint(...)\n",
        "\n",
        "       Return True if two sets have a null intersection."
      ],
      "metadata": {
        "id": "WqdtfQhdben3"
      }
    },
    {
      "cell_type": "code",
      "source": [
        "set1 = {1, 2, 3}\n",
        "set2 = {4, 5, 6}\n",
        "are_disjoint = set1.isdisjoint(set2)\n",
        "print(are_disjoint)"
      ],
      "metadata": {
        "colab": {
          "base_uri": "https://localhost:8080/"
        },
        "id": "ZP-hmM4FbnXW",
        "outputId": "b90f5054-523d-42e5-98db-4d6871261034"
      },
      "execution_count": null,
      "outputs": [
        {
          "output_type": "stream",
          "name": "stdout",
          "text": [
            "True\n"
          ]
        }
      ]
    },
    {
      "cell_type": "markdown",
      "source": [
        "# issubset(self, other, /)\n",
        "\n",
        "       Test whether every element in the set is in other."
      ],
      "metadata": {
        "id": "fOJ5FxARb6NT"
      }
    },
    {
      "cell_type": "code",
      "source": [
        "set1 = {1, 2}\n",
        "set2 = {1, 2, 3}\n",
        "is_subset = set1 <= set2\n",
        "print(is_subset)"
      ],
      "metadata": {
        "colab": {
          "base_uri": "https://localhost:8080/"
        },
        "id": "XaJDI_c4cF81",
        "outputId": "5fb926f8-848b-47d5-979d-960965ce22ca"
      },
      "execution_count": null,
      "outputs": [
        {
          "output_type": "stream",
          "name": "stdout",
          "text": [
            "True\n"
          ]
        }
      ]
    },
    {
      "cell_type": "markdown",
      "source": [
        "#  issuperset(self, other, /)\n",
        "\n",
        "       Test whether every element in other is in the set."
      ],
      "metadata": {
        "id": "mYyVt5vLduPt"
      }
    },
    {
      "cell_type": "code",
      "source": [
        "set1 = {1, 2, 3}\n",
        "set2 = {1, 2}\n",
        "is_superset = set1 >= set2\n",
        "print(is_superset)"
      ],
      "metadata": {
        "colab": {
          "base_uri": "https://localhost:8080/"
        },
        "id": "O1HorKF4dy_3",
        "outputId": "f310047e-ddc4-48c7-cc0c-c7831e01bc9e"
      },
      "execution_count": null,
      "outputs": [
        {
          "output_type": "stream",
          "name": "stdout",
          "text": [
            "True\n"
          ]
        }
      ]
    },
    {
      "cell_type": "markdown",
      "source": [
        "# pop(...)\n",
        "       \n",
        "       Remove and return an arbitrary set element.\n",
        "       Raises KeyError if the set is empty."
      ],
      "metadata": {
        "id": "Pj6WN2kBnu9o"
      }
    },
    {
      "cell_type": "code",
      "source": [
        "my_set = {1, 2, 3, 4, 5}\n",
        "removed_element = my_set.pop()\n",
        "\n",
        "print(removed_element)\n",
        "print(my_set)"
      ],
      "metadata": {
        "colab": {
          "base_uri": "https://localhost:8080/"
        },
        "id": "msvJARmyn_zP",
        "outputId": "36d85b6a-90f4-4df2-eb11-f6ce5d78095d"
      },
      "execution_count": null,
      "outputs": [
        {
          "output_type": "stream",
          "name": "stdout",
          "text": [
            "1\n",
            "{2, 3, 4, 5}\n"
          ]
        }
      ]
    },
    {
      "cell_type": "markdown",
      "source": [
        "# remove(...)\n",
        "\n",
        "       Remove an element from a set; it must be a member.\n",
        "       \n",
        "       If the element is not a member, raise a KeyError."
      ],
      "metadata": {
        "id": "L4cWj3x-oSR4"
      }
    },
    {
      "cell_type": "code",
      "source": [
        "my_set = {1, 2, 3, 4, 5}\n",
        "my_set.remove(3)\n",
        "print(my_set)"
      ],
      "metadata": {
        "colab": {
          "base_uri": "https://localhost:8080/"
        },
        "id": "JZ-uho4koYU5",
        "outputId": "7a534f0a-13eb-4314-e0f4-404bc0cb641e"
      },
      "execution_count": null,
      "outputs": [
        {
          "output_type": "stream",
          "name": "stdout",
          "text": [
            "{1, 2, 4, 5}\n"
          ]
        }
      ]
    },
    {
      "cell_type": "markdown",
      "source": [
        "# symmetric_difference(...)\n",
        "\n",
        "       Return the symmetric difference of two sets as a new set.\n",
        "       \n",
        "       (i.e. all elements that are in exactly one of the sets.)"
      ],
      "metadata": {
        "id": "opyhpYZtox2X"
      }
    },
    {
      "cell_type": "code",
      "source": [
        "set1 = {1, 2, 3, 4}\n",
        "set2 = {3, 4, 5, 6}\n",
        "\n",
        "symmetric_diff_set = set1.symmetric_difference(set2)\n",
        "\n",
        "print(symmetric_diff_set)"
      ],
      "metadata": {
        "colab": {
          "base_uri": "https://localhost:8080/"
        },
        "id": "AG-tAn-Do8me",
        "outputId": "48fac3b6-0197-4270-a872-ff6810643419"
      },
      "execution_count": null,
      "outputs": [
        {
          "output_type": "stream",
          "name": "stdout",
          "text": [
            "{1, 2, 5, 6}\n"
          ]
        }
      ]
    },
    {
      "cell_type": "markdown",
      "source": [
        "# symmetric_difference_update(...)\n",
        "\n",
        "       Update a set with the symmetric difference of itself and another."
      ],
      "metadata": {
        "id": "3H6DDa7Mpahm"
      }
    },
    {
      "cell_type": "code",
      "source": [
        "set1 = {1, 2, 3}\n",
        "set2 = {3, 4, 5}\n",
        "set1.symmetric_difference_update(set2)\n",
        "print(set1)"
      ],
      "metadata": {
        "colab": {
          "base_uri": "https://localhost:8080/"
        },
        "id": "Bf27pzgRpxZf",
        "outputId": "62791fa8-8ee6-417c-ebe8-fa55c2a277b1"
      },
      "execution_count": null,
      "outputs": [
        {
          "output_type": "stream",
          "name": "stdout",
          "text": [
            "{1, 2, 4, 5}\n"
          ]
        }
      ]
    },
    {
      "cell_type": "markdown",
      "source": [
        "# union(...)\n",
        "\n",
        "       Return the union of sets as a new set.\n",
        "       \n",
        "       (i.e. all elements that are in either set.)"
      ],
      "metadata": {
        "id": "K9eWUt-GqEdN"
      }
    },
    {
      "cell_type": "code",
      "source": [
        "set1 = {1, 2, 3}\n",
        "set2 = {3, 4, 5}\n",
        "union_set = set1.union(set2)\n",
        "print(union_set)"
      ],
      "metadata": {
        "colab": {
          "base_uri": "https://localhost:8080/"
        },
        "id": "w-Bl-uzpqMyJ",
        "outputId": "2e0448b2-2dcd-45f1-ccdd-d6af7460cc18"
      },
      "execution_count": null,
      "outputs": [
        {
          "output_type": "stream",
          "name": "stdout",
          "text": [
            "{1, 2, 3, 4, 5}\n"
          ]
        }
      ]
    },
    {
      "cell_type": "markdown",
      "source": [
        "# update(...)\n",
        "\n",
        "       Update a set with the union of itself and others."
      ],
      "metadata": {
        "id": "OeKjE9ijqkT1"
      }
    },
    {
      "cell_type": "code",
      "source": [
        "set1 = {1, 2, 3}\n",
        "set2 = {3, 4, 5}\n",
        "\n",
        "set1.update(set2)\n",
        "\n",
        "print(set1)"
      ],
      "metadata": {
        "colab": {
          "base_uri": "https://localhost:8080/"
        },
        "id": "shGrYrjJq7Ot",
        "outputId": "ef50a374-898a-45eb-fd5d-5727026845f5"
      },
      "execution_count": null,
      "outputs": [
        {
          "output_type": "stream",
          "name": "stdout",
          "text": [
            "{1, 2, 3, 4, 5}\n"
          ]
        }
      ]
    },
    {
      "cell_type": "markdown",
      "source": [
        "# dict"
      ],
      "metadata": {
        "id": "F7oCq4CCrgsM"
      }
    },
    {
      "cell_type": "markdown",
      "source": [
        "# help(dict)"
      ],
      "metadata": {
        "id": "FQyoC8FdUi0a"
      }
    },
    {
      "cell_type": "code",
      "source": [
        "help(dict)"
      ],
      "metadata": {
        "colab": {
          "base_uri": "https://localhost:8080/"
        },
        "id": "-tefYfeorp3w",
        "outputId": "cb7a2f44-88e7-470d-c351-5177518938e7"
      },
      "execution_count": null,
      "outputs": [
        {
          "output_type": "stream",
          "name": "stdout",
          "text": [
            "Help on class dict in module builtins:\n",
            "\n",
            "class dict(object)\n",
            " |  dict() -> new empty dictionary\n",
            " |  dict(mapping) -> new dictionary initialized from a mapping object's\n",
            " |      (key, value) pairs\n",
            " |  dict(iterable) -> new dictionary initialized as if via:\n",
            " |      d = {}\n",
            " |      for k, v in iterable:\n",
            " |          d[k] = v\n",
            " |  dict(**kwargs) -> new dictionary initialized with the name=value pairs\n",
            " |      in the keyword argument list.  For example:  dict(one=1, two=2)\n",
            " |  \n",
            " |  Built-in subclasses:\n",
            " |      StgDict\n",
            " |  \n",
            " |  Methods defined here:\n",
            " |  \n",
            " |  __contains__(self, key, /)\n",
            " |      True if the dictionary has the specified key, else False.\n",
            " |  \n",
            " |  __delitem__(self, key, /)\n",
            " |      Delete self[key].\n",
            " |  \n",
            " |  __eq__(self, value, /)\n",
            " |      Return self==value.\n",
            " |  \n",
            " |  __ge__(self, value, /)\n",
            " |      Return self>=value.\n",
            " |  \n",
            " |  __getattribute__(self, name, /)\n",
            " |      Return getattr(self, name).\n",
            " |  \n",
            " |  __getitem__(...)\n",
            " |      x.__getitem__(y) <==> x[y]\n",
            " |  \n",
            " |  __gt__(self, value, /)\n",
            " |      Return self>value.\n",
            " |  \n",
            " |  __init__(self, /, *args, **kwargs)\n",
            " |      Initialize self.  See help(type(self)) for accurate signature.\n",
            " |  \n",
            " |  __ior__(self, value, /)\n",
            " |      Return self|=value.\n",
            " |  \n",
            " |  __iter__(self, /)\n",
            " |      Implement iter(self).\n",
            " |  \n",
            " |  __le__(self, value, /)\n",
            " |      Return self<=value.\n",
            " |  \n",
            " |  __len__(self, /)\n",
            " |      Return len(self).\n",
            " |  \n",
            " |  __lt__(self, value, /)\n",
            " |      Return self<value.\n",
            " |  \n",
            " |  __ne__(self, value, /)\n",
            " |      Return self!=value.\n",
            " |  \n",
            " |  __or__(self, value, /)\n",
            " |      Return self|value.\n",
            " |  \n",
            " |  __repr__(self, /)\n",
            " |      Return repr(self).\n",
            " |  \n",
            " |  __reversed__(self, /)\n",
            " |      Return a reverse iterator over the dict keys.\n",
            " |  \n",
            " |  __ror__(self, value, /)\n",
            " |      Return value|self.\n",
            " |  \n",
            " |  __setitem__(self, key, value, /)\n",
            " |      Set self[key] to value.\n",
            " |  \n",
            " |  __sizeof__(...)\n",
            " |      D.__sizeof__() -> size of D in memory, in bytes\n",
            " |  \n",
            " |  clear(...)\n",
            " |      D.clear() -> None.  Remove all items from D.\n",
            " |  \n",
            " |  copy(...)\n",
            " |      D.copy() -> a shallow copy of D\n",
            " |  \n",
            " |  get(self, key, default=None, /)\n",
            " |      Return the value for key if key is in the dictionary, else default.\n",
            " |  \n",
            " |  items(...)\n",
            " |      D.items() -> a set-like object providing a view on D's items\n",
            " |  \n",
            " |  keys(...)\n",
            " |      D.keys() -> a set-like object providing a view on D's keys\n",
            " |  \n",
            " |  pop(...)\n",
            " |      D.pop(k[,d]) -> v, remove specified key and return the corresponding value.\n",
            " |      \n",
            " |      If the key is not found, return the default if given; otherwise,\n",
            " |      raise a KeyError.\n",
            " |  \n",
            " |  popitem(self, /)\n",
            " |      Remove and return a (key, value) pair as a 2-tuple.\n",
            " |      \n",
            " |      Pairs are returned in LIFO (last-in, first-out) order.\n",
            " |      Raises KeyError if the dict is empty.\n",
            " |  \n",
            " |  setdefault(self, key, default=None, /)\n",
            " |      Insert key with a value of default if key is not in the dictionary.\n",
            " |      \n",
            " |      Return the value for key if key is in the dictionary, else default.\n",
            " |  \n",
            " |  update(...)\n",
            " |      D.update([E, ]**F) -> None.  Update D from dict/iterable E and F.\n",
            " |      If E is present and has a .keys() method, then does:  for k in E: D[k] = E[k]\n",
            " |      If E is present and lacks a .keys() method, then does:  for k, v in E: D[k] = v\n",
            " |      In either case, this is followed by: for k in F:  D[k] = F[k]\n",
            " |  \n",
            " |  values(...)\n",
            " |      D.values() -> an object providing a view on D's values\n",
            " |  \n",
            " |  ----------------------------------------------------------------------\n",
            " |  Class methods defined here:\n",
            " |  \n",
            " |  __class_getitem__(...)\n",
            " |      See PEP 585\n",
            " |  \n",
            " |  fromkeys(iterable, value=None, /)\n",
            " |      Create a new dictionary with keys from iterable and values set to value.\n",
            " |  \n",
            " |  ----------------------------------------------------------------------\n",
            " |  Static methods defined here:\n",
            " |  \n",
            " |  __new__(*args, **kwargs)\n",
            " |      Create and return a new object.  See help(type) for accurate signature.\n",
            " |  \n",
            " |  ----------------------------------------------------------------------\n",
            " |  Data and other attributes defined here:\n",
            " |  \n",
            " |  __hash__ = None\n",
            "\n"
          ]
        }
      ]
    },
    {
      "cell_type": "markdown",
      "source": [
        "# clear(...)\n",
        "\n",
        "       D.clear() -> None.  Remove all items from D."
      ],
      "metadata": {
        "id": "U5mbf65csaWT"
      }
    },
    {
      "cell_type": "code",
      "source": [
        "my_dict = {\"a\": 1, \"b\": 2, \"c\": 3}\n",
        "my_dict.clear()\n",
        "print(my_dict)"
      ],
      "metadata": {
        "colab": {
          "base_uri": "https://localhost:8080/"
        },
        "id": "Vux2p8PesfbR",
        "outputId": "d5a41f83-df4b-4d8f-dbdd-aea43b2be91f"
      },
      "execution_count": null,
      "outputs": [
        {
          "output_type": "stream",
          "name": "stdout",
          "text": [
            "{}\n"
          ]
        }
      ]
    },
    {
      "cell_type": "markdown",
      "source": [
        "# copy(...)\n",
        "\n",
        "       D.copy() -> a shallow copy of D"
      ],
      "metadata": {
        "id": "B80tN3uysvOD"
      }
    },
    {
      "cell_type": "code",
      "source": [
        "original_dict = {\"a\": 1, \"b\": 2}\n",
        "copied_dict = original_dict.copy()\n",
        "copied_dict[\"a\"] = 10\n",
        "print(original_dict)\n",
        "print(copied_dict)"
      ],
      "metadata": {
        "colab": {
          "base_uri": "https://localhost:8080/"
        },
        "id": "d0Cpbzzws5y6",
        "outputId": "2c5fb82c-4b66-42d6-b6df-9f8fe66c8475"
      },
      "execution_count": null,
      "outputs": [
        {
          "output_type": "stream",
          "name": "stdout",
          "text": [
            "{'a': 1, 'b': 2}\n",
            "{'a': 10, 'b': 2}\n"
          ]
        }
      ]
    },
    {
      "cell_type": "markdown",
      "source": [
        "# get(self, key, default=None, /)\n",
        "\n",
        "      Return the value for key if key is in the dictionary, else default."
      ],
      "metadata": {
        "id": "iMQMcoDNtWnF"
      }
    },
    {
      "cell_type": "code",
      "source": [
        "my_dict = {\"apple\": 1, \"banana\": 2, \"orange\": 3}\n",
        "apple_value = my_dict.get(\"apple\")\n",
        "print(apple_value)\n",
        "\n"
      ],
      "metadata": {
        "colab": {
          "base_uri": "https://localhost:8080/"
        },
        "id": "hCKHjJ48wlw8",
        "outputId": "4e679ef9-705c-44f6-8dec-e7cac9b69d27"
      },
      "execution_count": null,
      "outputs": [
        {
          "output_type": "stream",
          "name": "stdout",
          "text": [
            "1\n"
          ]
        }
      ]
    },
    {
      "cell_type": "markdown",
      "source": [
        "# items(...)\n",
        "\n",
        "       D.items() -> a set-like object providing a view on D's items"
      ],
      "metadata": {
        "id": "yfICEej6tdCp"
      }
    },
    {
      "cell_type": "code",
      "source": [
        "my_dict = {\"apple\": 1, \"banana\": 2, \"orange\": 3}\n",
        "items_view = my_dict.items()\n",
        "print(items_view)\n",
        "for key, value in my_dict.items():\n",
        "    print(f\"Key: {key}, Value: {value}\")"
      ],
      "metadata": {
        "colab": {
          "base_uri": "https://localhost:8080/"
        },
        "id": "i-9NIr8LxC6E",
        "outputId": "a397380a-3e13-4f74-cc99-a61634744560"
      },
      "execution_count": null,
      "outputs": [
        {
          "output_type": "stream",
          "name": "stdout",
          "text": [
            "dict_items([('apple', 1), ('banana', 2), ('orange', 3)])\n",
            "Key: apple, Value: 1\n",
            "Key: banana, Value: 2\n",
            "Key: orange, Value: 3\n"
          ]
        }
      ]
    },
    {
      "cell_type": "markdown",
      "source": [
        "# keys(...)\n",
        "       \n",
        "       D.keys() -> a set-like object providing a view on D's keys  "
      ],
      "metadata": {
        "id": "_eYLR1w6t44s"
      }
    },
    {
      "cell_type": "code",
      "source": [
        "my_dict = {\"apple\": 1, \"banana\": 2, \"orange\": 3}\n",
        "all_keys = my_dict.keys()\n",
        "print(all_keys)\n",
        "for key in my_dict.keys():\n",
        "    print(key)"
      ],
      "metadata": {
        "colab": {
          "base_uri": "https://localhost:8080/"
        },
        "id": "z3fpRvlXy9gk",
        "outputId": "7e7cb7b4-34c7-4a0e-cf48-b8768dafd60e"
      },
      "execution_count": null,
      "outputs": [
        {
          "output_type": "stream",
          "name": "stdout",
          "text": [
            "dict_keys(['apple', 'banana', 'orange'])\n",
            "apple\n",
            "banana\n",
            "orange\n"
          ]
        }
      ]
    },
    {
      "cell_type": "markdown",
      "source": [
        "# pop(...)\n",
        "\n",
        "       D.pop(k[,d]) -> v, remove specified key and return the corresponding value.\n",
        "       If the key is not found, return the default if given; otherwise,\n",
        "       raise a KeyError.\n"
      ],
      "metadata": {
        "id": "4RpFTj5OuBeq"
      }
    },
    {
      "cell_type": "code",
      "source": [
        "my_dict = {'apple': 1, 'banana': 2, 'orange': 3}\n",
        "removed_value = my_dict.pop('banana')\n",
        "print(removed_value)\n",
        "print(my_dict)\n",
        "removed_value = my_dict.pop('grape', 0)\n",
        "print(removed_value)\n",
        "print(my_dict)"
      ],
      "metadata": {
        "colab": {
          "base_uri": "https://localhost:8080/"
        },
        "id": "54SE7wBOzGDC",
        "outputId": "3f544cdf-1a6c-4881-fbd5-75f83c65eab3"
      },
      "execution_count": null,
      "outputs": [
        {
          "output_type": "stream",
          "name": "stdout",
          "text": [
            "2\n",
            "{'apple': 1, 'orange': 3}\n",
            "0\n",
            "{'apple': 1, 'orange': 3}\n"
          ]
        }
      ]
    },
    {
      "cell_type": "markdown",
      "source": [
        "# popitem(self, /)\n",
        "       \n",
        "       Remove and return a (key, value) pair as a 2-tuple.\n",
        "       \n",
        "       Pairs are returned in LIFO (last-in, first-out) order.\n",
        "       Raises KeyError if the dict is empty."
      ],
      "metadata": {
        "id": "qm1YhDzRuK8G"
      }
    },
    {
      "cell_type": "code",
      "source": [
        "my_dict = {'apple': 1, 'banana': 2, 'orange': 3}\n",
        "key, value = my_dict.popitem()\n",
        "print(key, value)\n",
        "print(my_dict)"
      ],
      "metadata": {
        "colab": {
          "base_uri": "https://localhost:8080/"
        },
        "id": "raDBgV8Zz6oC",
        "outputId": "cc0e2157-f469-445d-bd17-34b70319c2c3"
      },
      "execution_count": null,
      "outputs": [
        {
          "output_type": "stream",
          "name": "stdout",
          "text": [
            "orange 3\n",
            "{'apple': 1, 'banana': 2}\n"
          ]
        }
      ]
    },
    {
      "cell_type": "markdown",
      "source": [
        "# setdefault(self, key, default=None, /)\n",
        "\n",
        "       Insert key with a value of default if key is not in the dictionary.\n",
        "       \n",
        "       Return the value for key if key is in the dictionary, else default."
      ],
      "metadata": {
        "id": "RDJOi6CCuTDS"
      }
    },
    {
      "cell_type": "code",
      "source": [
        "my_dict = {\"apple\": 1, \"banana\": 2}\n",
        "apple_value = my_dict.setdefault(\"apple\", 5)\n",
        "print(apple_value)\n",
        "print(my_dict)\n",
        "grape_value = my_dict.setdefault(\"grape\", 3)\n",
        "print(grape_value)\n",
        "print(my_dict)"
      ],
      "metadata": {
        "colab": {
          "base_uri": "https://localhost:8080/"
        },
        "id": "DiUUVFWU0M14",
        "outputId": "c74bf950-d3c7-4580-a056-8f7c239fbaed"
      },
      "execution_count": null,
      "outputs": [
        {
          "output_type": "stream",
          "name": "stdout",
          "text": [
            "1\n",
            "{'apple': 1, 'banana': 2}\n",
            "3\n",
            "{'apple': 1, 'banana': 2, 'grape': 3}\n"
          ]
        }
      ]
    },
    {
      "cell_type": "markdown",
      "source": [
        "# update(...)\n",
        "\n",
        "       D.update([E, ]**F) -> None.  Update D from dict/iterable E and F.\n",
        "       If E is present and has a .keys() method, then does:  for k in E: D[k] = E[k]\n",
        "       If E is present and lacks a .keys() method, then does:  for k, v in E: D[k] = v\n",
        "       In either case, this is followed by: for k in F:  D[k] = F[k]"
      ],
      "metadata": {
        "id": "M500JK0fuZ_o"
      }
    },
    {
      "cell_type": "code",
      "source": [
        "my_dict = {\"a\": 1, \"b\": 2}\n",
        "other_dict = {\"b\": 3, \"c\": 4}\n",
        "\n",
        "my_dict.update(other_dict)\n",
        "print(my_dict)"
      ],
      "metadata": {
        "colab": {
          "base_uri": "https://localhost:8080/"
        },
        "id": "uj5Um9OU0zEv",
        "outputId": "b0608da5-5955-4bfd-af47-ad243c9d5a4f"
      },
      "execution_count": null,
      "outputs": [
        {
          "output_type": "stream",
          "name": "stdout",
          "text": [
            "{'a': 1, 'b': 3, 'c': 4}\n"
          ]
        }
      ]
    },
    {
      "cell_type": "code",
      "source": [
        "my_dict = {\"a\": 1, \"b\": 2}\n",
        "my_dict.update([(\"b\", 3), (\"c\", 4)])\n",
        "print(my_dict)"
      ],
      "metadata": {
        "colab": {
          "base_uri": "https://localhost:8080/"
        },
        "id": "GEAynfwm00MQ",
        "outputId": "801179f7-5bfb-40c4-a972-343b863ee581"
      },
      "execution_count": null,
      "outputs": [
        {
          "output_type": "stream",
          "name": "stdout",
          "text": [
            "{'a': 1, 'b': 3, 'c': 4}\n"
          ]
        }
      ]
    },
    {
      "cell_type": "markdown",
      "source": [
        "# values(...)\n",
        "\n",
        "       D.values() -> an object providing a view on D's values"
      ],
      "metadata": {
        "id": "5dhMgsn2wWWi"
      }
    },
    {
      "cell_type": "code",
      "source": [
        "my_dict = {\"apple\": 1, \"banana\": 2, \"orange\": 3}\n",
        "all_values = my_dict.values()\n",
        "print(all_values)\n",
        "for value in my_dict.values():\n",
        "    print(value)"
      ],
      "metadata": {
        "colab": {
          "base_uri": "https://localhost:8080/"
        },
        "id": "SbtU5u2e1H4m",
        "outputId": "e7cf1d40-220c-4b72-f800-c721608d0b96"
      },
      "execution_count": null,
      "outputs": [
        {
          "output_type": "stream",
          "name": "stdout",
          "text": [
            "dict_values([1, 2, 3])\n",
            "1\n",
            "2\n",
            "3\n"
          ]
        }
      ]
    },
    {
      "cell_type": "markdown",
      "source": [
        "# bool"
      ],
      "metadata": {
        "id": "5-2IztDc1dWd"
      }
    },
    {
      "cell_type": "markdown",
      "source": [
        "# help(bool)"
      ],
      "metadata": {
        "id": "uU5SJlThVEVV"
      }
    },
    {
      "cell_type": "code",
      "source": [
        "help(bool)"
      ],
      "metadata": {
        "colab": {
          "base_uri": "https://localhost:8080/"
        },
        "id": "nnuqkGft1gXf",
        "outputId": "36f655e3-10c3-41a5-810f-0428b638a05f"
      },
      "execution_count": null,
      "outputs": [
        {
          "output_type": "stream",
          "name": "stdout",
          "text": [
            "Help on class bool in module builtins:\n",
            "\n",
            "class bool(int)\n",
            " |  bool(x) -> bool\n",
            " |  \n",
            " |  Returns True when the argument x is true, False otherwise.\n",
            " |  The builtins True and False are the only two instances of the class bool.\n",
            " |  The class bool is a subclass of the class int, and cannot be subclassed.\n",
            " |  \n",
            " |  Method resolution order:\n",
            " |      bool\n",
            " |      int\n",
            " |      object\n",
            " |  \n",
            " |  Methods defined here:\n",
            " |  \n",
            " |  __and__(self, value, /)\n",
            " |      Return self&value.\n",
            " |  \n",
            " |  __or__(self, value, /)\n",
            " |      Return self|value.\n",
            " |  \n",
            " |  __rand__(self, value, /)\n",
            " |      Return value&self.\n",
            " |  \n",
            " |  __repr__(self, /)\n",
            " |      Return repr(self).\n",
            " |  \n",
            " |  __ror__(self, value, /)\n",
            " |      Return value|self.\n",
            " |  \n",
            " |  __rxor__(self, value, /)\n",
            " |      Return value^self.\n",
            " |  \n",
            " |  __xor__(self, value, /)\n",
            " |      Return self^value.\n",
            " |  \n",
            " |  ----------------------------------------------------------------------\n",
            " |  Static methods defined here:\n",
            " |  \n",
            " |  __new__(*args, **kwargs)\n",
            " |      Create and return a new object.  See help(type) for accurate signature.\n",
            " |  \n",
            " |  ----------------------------------------------------------------------\n",
            " |  Methods inherited from int:\n",
            " |  \n",
            " |  __abs__(self, /)\n",
            " |      abs(self)\n",
            " |  \n",
            " |  __add__(self, value, /)\n",
            " |      Return self+value.\n",
            " |  \n",
            " |  __bool__(self, /)\n",
            " |      True if self else False\n",
            " |  \n",
            " |  __ceil__(...)\n",
            " |      Ceiling of an Integral returns itself.\n",
            " |  \n",
            " |  __divmod__(self, value, /)\n",
            " |      Return divmod(self, value).\n",
            " |  \n",
            " |  __eq__(self, value, /)\n",
            " |      Return self==value.\n",
            " |  \n",
            " |  __float__(self, /)\n",
            " |      float(self)\n",
            " |  \n",
            " |  __floor__(...)\n",
            " |      Flooring an Integral returns itself.\n",
            " |  \n",
            " |  __floordiv__(self, value, /)\n",
            " |      Return self//value.\n",
            " |  \n",
            " |  __format__(self, format_spec, /)\n",
            " |      Default object formatter.\n",
            " |  \n",
            " |  __ge__(self, value, /)\n",
            " |      Return self>=value.\n",
            " |  \n",
            " |  __getattribute__(self, name, /)\n",
            " |      Return getattr(self, name).\n",
            " |  \n",
            " |  __getnewargs__(self, /)\n",
            " |  \n",
            " |  __gt__(self, value, /)\n",
            " |      Return self>value.\n",
            " |  \n",
            " |  __hash__(self, /)\n",
            " |      Return hash(self).\n",
            " |  \n",
            " |  __index__(self, /)\n",
            " |      Return self converted to an integer, if self is suitable for use as an index into a list.\n",
            " |  \n",
            " |  __int__(self, /)\n",
            " |      int(self)\n",
            " |  \n",
            " |  __invert__(self, /)\n",
            " |      ~self\n",
            " |  \n",
            " |  __le__(self, value, /)\n",
            " |      Return self<=value.\n",
            " |  \n",
            " |  __lshift__(self, value, /)\n",
            " |      Return self<<value.\n",
            " |  \n",
            " |  __lt__(self, value, /)\n",
            " |      Return self<value.\n",
            " |  \n",
            " |  __mod__(self, value, /)\n",
            " |      Return self%value.\n",
            " |  \n",
            " |  __mul__(self, value, /)\n",
            " |      Return self*value.\n",
            " |  \n",
            " |  __ne__(self, value, /)\n",
            " |      Return self!=value.\n",
            " |  \n",
            " |  __neg__(self, /)\n",
            " |      -self\n",
            " |  \n",
            " |  __pos__(self, /)\n",
            " |      +self\n",
            " |  \n",
            " |  __pow__(self, value, mod=None, /)\n",
            " |      Return pow(self, value, mod).\n",
            " |  \n",
            " |  __radd__(self, value, /)\n",
            " |      Return value+self.\n",
            " |  \n",
            " |  __rdivmod__(self, value, /)\n",
            " |      Return divmod(value, self).\n",
            " |  \n",
            " |  __rfloordiv__(self, value, /)\n",
            " |      Return value//self.\n",
            " |  \n",
            " |  __rlshift__(self, value, /)\n",
            " |      Return value<<self.\n",
            " |  \n",
            " |  __rmod__(self, value, /)\n",
            " |      Return value%self.\n",
            " |  \n",
            " |  __rmul__(self, value, /)\n",
            " |      Return value*self.\n",
            " |  \n",
            " |  __round__(...)\n",
            " |      Rounding an Integral returns itself.\n",
            " |      \n",
            " |      Rounding with an ndigits argument also returns an integer.\n",
            " |  \n",
            " |  __rpow__(self, value, mod=None, /)\n",
            " |      Return pow(value, self, mod).\n",
            " |  \n",
            " |  __rrshift__(self, value, /)\n",
            " |      Return value>>self.\n",
            " |  \n",
            " |  __rshift__(self, value, /)\n",
            " |      Return self>>value.\n",
            " |  \n",
            " |  __rsub__(self, value, /)\n",
            " |      Return value-self.\n",
            " |  \n",
            " |  __rtruediv__(self, value, /)\n",
            " |      Return value/self.\n",
            " |  \n",
            " |  __sizeof__(self, /)\n",
            " |      Returns size in memory, in bytes.\n",
            " |  \n",
            " |  __sub__(self, value, /)\n",
            " |      Return self-value.\n",
            " |  \n",
            " |  __truediv__(self, value, /)\n",
            " |      Return self/value.\n",
            " |  \n",
            " |  __trunc__(...)\n",
            " |      Truncating an Integral returns itself.\n",
            " |  \n",
            " |  as_integer_ratio(self, /)\n",
            " |      Return integer ratio.\n",
            " |      \n",
            " |      Return a pair of integers, whose ratio is exactly equal to the original int\n",
            " |      and with a positive denominator.\n",
            " |      \n",
            " |      >>> (10).as_integer_ratio()\n",
            " |      (10, 1)\n",
            " |      >>> (-10).as_integer_ratio()\n",
            " |      (-10, 1)\n",
            " |      >>> (0).as_integer_ratio()\n",
            " |      (0, 1)\n",
            " |  \n",
            " |  bit_count(self, /)\n",
            " |      Number of ones in the binary representation of the absolute value of self.\n",
            " |      \n",
            " |      Also known as the population count.\n",
            " |      \n",
            " |      >>> bin(13)\n",
            " |      '0b1101'\n",
            " |      >>> (13).bit_count()\n",
            " |      3\n",
            " |  \n",
            " |  bit_length(self, /)\n",
            " |      Number of bits necessary to represent self in binary.\n",
            " |      \n",
            " |      >>> bin(37)\n",
            " |      '0b100101'\n",
            " |      >>> (37).bit_length()\n",
            " |      6\n",
            " |  \n",
            " |  conjugate(...)\n",
            " |      Returns self, the complex conjugate of any int.\n",
            " |  \n",
            " |  to_bytes(self, /, length=1, byteorder='big', *, signed=False)\n",
            " |      Return an array of bytes representing an integer.\n",
            " |      \n",
            " |      length\n",
            " |        Length of bytes object to use.  An OverflowError is raised if the\n",
            " |        integer is not representable with the given number of bytes.  Default\n",
            " |        is length 1.\n",
            " |      byteorder\n",
            " |        The byte order used to represent the integer.  If byteorder is 'big',\n",
            " |        the most significant byte is at the beginning of the byte array.  If\n",
            " |        byteorder is 'little', the most significant byte is at the end of the\n",
            " |        byte array.  To request the native byte order of the host system, use\n",
            " |        `sys.byteorder' as the byte order value.  Default is to use 'big'.\n",
            " |      signed\n",
            " |        Determines whether two's complement is used to represent the integer.\n",
            " |        If signed is False and a negative integer is given, an OverflowError\n",
            " |        is raised.\n",
            " |  \n",
            " |  ----------------------------------------------------------------------\n",
            " |  Class methods inherited from int:\n",
            " |  \n",
            " |  from_bytes(bytes, byteorder='big', *, signed=False)\n",
            " |      Return the integer represented by the given array of bytes.\n",
            " |      \n",
            " |      bytes\n",
            " |        Holds the array of bytes to convert.  The argument must either\n",
            " |        support the buffer protocol or be an iterable object producing bytes.\n",
            " |        Bytes and bytearray are examples of built-in objects that support the\n",
            " |        buffer protocol.\n",
            " |      byteorder\n",
            " |        The byte order used to represent the integer.  If byteorder is 'big',\n",
            " |        the most significant byte is at the beginning of the byte array.  If\n",
            " |        byteorder is 'little', the most significant byte is at the end of the\n",
            " |        byte array.  To request the native byte order of the host system, use\n",
            " |        `sys.byteorder' as the byte order value.  Default is to use 'big'.\n",
            " |      signed\n",
            " |        Indicates whether two's complement is used to represent the integer.\n",
            " |  \n",
            " |  ----------------------------------------------------------------------\n",
            " |  Data descriptors inherited from int:\n",
            " |  \n",
            " |  denominator\n",
            " |      the denominator of a rational number in lowest terms\n",
            " |  \n",
            " |  imag\n",
            " |      the imaginary part of a complex number\n",
            " |  \n",
            " |  numerator\n",
            " |      the numerator of a rational number in lowest terms\n",
            " |  \n",
            " |  real\n",
            " |      the real part of a complex number\n",
            "\n"
          ]
        }
      ]
    },
    {
      "cell_type": "markdown",
      "source": [
        "# as_integer_ratio(self, /)\n",
        "       Return integer ratio.\n",
        "       \n",
        "       Return a pair of integers, whose ratio is exactly equal to the original int\n",
        "       and with a positive denominator.\n",
        "       \n",
        "       >>> (10).as_integer_ratio()\n",
        "       (10, 1)\n",
        "       >>> (-10).as_integer_ratio()\n",
        "       (-10, 1)\n",
        "       >>> (0).as_integer_ratio()\n",
        "       (0, 1)"
      ],
      "metadata": {
        "id": "YYpgXJuY1-f4"
      }
    },
    {
      "cell_type": "code",
      "source": [
        "(20).as_integer_ratio()"
      ],
      "metadata": {
        "colab": {
          "base_uri": "https://localhost:8080/"
        },
        "id": "flgSAUHS2K2U",
        "outputId": "45db1fcb-61aa-41a7-eee1-165b4c00c5ee"
      },
      "execution_count": null,
      "outputs": [
        {
          "output_type": "execute_result",
          "data": {
            "text/plain": [
              "(20, 1)"
            ]
          },
          "metadata": {},
          "execution_count": 61
        }
      ]
    },
    {
      "cell_type": "markdown",
      "source": [
        "# bit_count(self, /)\n",
        "\n",
        "       Number of ones in the binary representation of the absolute value of self.\n",
        "       \n",
        "       Also known as the population count.\n",
        "       \n",
        "       >>> bin(13)\n",
        "       '0b1101'\n",
        "       >>> (13).bit_count()\n",
        "       3"
      ],
      "metadata": {
        "id": "agKNtwx62JmE"
      }
    },
    {
      "cell_type": "code",
      "source": [
        "bin(34)"
      ],
      "metadata": {
        "colab": {
          "base_uri": "https://localhost:8080/",
          "height": 35
        },
        "id": "sfBs7fYE2a7p",
        "outputId": "c0fc93f8-9aa8-4f10-a3d6-5257aa58fbb3"
      },
      "execution_count": null,
      "outputs": [
        {
          "output_type": "execute_result",
          "data": {
            "text/plain": [
              "'0b100010'"
            ],
            "application/vnd.google.colaboratory.intrinsic+json": {
              "type": "string"
            }
          },
          "metadata": {},
          "execution_count": 62
        }
      ]
    },
    {
      "cell_type": "code",
      "source": [
        "(34).bit_count()"
      ],
      "metadata": {
        "colab": {
          "base_uri": "https://localhost:8080/"
        },
        "id": "VOPaZl1z2gWS",
        "outputId": "8f81efe5-b3e0-498c-c604-98ba2b1d2f8e"
      },
      "execution_count": null,
      "outputs": [
        {
          "output_type": "execute_result",
          "data": {
            "text/plain": [
              "2"
            ]
          },
          "metadata": {},
          "execution_count": 63
        }
      ]
    },
    {
      "cell_type": "markdown",
      "source": [
        "# conjugate(...)\n",
        "\n",
        "       Returns self, the complex conjugate of any int."
      ],
      "metadata": {
        "id": "-PbPV0BS2Za7"
      }
    },
    {
      "cell_type": "code",
      "source": [
        "z=5+6j\n",
        "z.conjugate()"
      ],
      "metadata": {
        "colab": {
          "base_uri": "https://localhost:8080/"
        },
        "id": "f2yF_gg-2ysV",
        "outputId": "1a19f988-22eb-4014-afe9-2d55ddfd87a5"
      },
      "execution_count": null,
      "outputs": [
        {
          "output_type": "execute_result",
          "data": {
            "text/plain": [
              "(5-6j)"
            ]
          },
          "metadata": {},
          "execution_count": 64
        }
      ]
    },
    {
      "cell_type": "markdown",
      "source": [
        "   # to_bytes(self, /, length=1, byteorder='big', *, signed=False)\n",
        "\n",
        "       Return an array of bytes representing an integer.\n",
        "       \n",
        "       length\n",
        "         Length of bytes object to use.  An OverflowError is raised if the\n",
        "         integer is not representable with the given number of bytes.  Default\n",
        "         is length 1.\n",
        "       byteorder\n",
        "         The byte order used to represent the integer.  If byteorder is 'big',\n",
        "         the most significant byte is at the beginning of the byte array.  If\n",
        "         byteorder is 'little', the most significant byte is at the end of the\n",
        "         byte array.  To request the native byte order of the host system, use\n",
        "         `sys.byteorder' as the byte order value.  Default is to use 'big'.\n",
        "       signed\n",
        "         Determines whether two's complement is used to represent the integer.\n",
        "         If signed is False and a negative integer is given, an OverflowError\n",
        "         is raised.\n"
      ],
      "metadata": {
        "id": "AeOJXuYF3An4"
      }
    },
    {
      "cell_type": "code",
      "source": [
        "(78).to_bytes(byteorder='big',signed=False)"
      ],
      "metadata": {
        "colab": {
          "base_uri": "https://localhost:8080/"
        },
        "id": "XrwzdMFs3RhL",
        "outputId": "987471f8-5e5a-4ce3-9fe7-e2f166f3b474"
      },
      "execution_count": null,
      "outputs": [
        {
          "output_type": "execute_result",
          "data": {
            "text/plain": [
              "b'N'"
            ]
          },
          "metadata": {},
          "execution_count": 68
        }
      ]
    },
    {
      "cell_type": "markdown",
      "source": [
        "# from_bytes(bytes, byteorder='big', *, signed=False)\n",
        "\n",
        "       Return the integer represented by the given array of bytes.\n",
        "       \n",
        "       bytes\n",
        "         Holds the array of bytes to convert.  The argument must either\n",
        "         support the buffer protocol or be an iterable object producing bytes.\n",
        "         Bytes and bytearray are examples of built-in objects that support the\n",
        "         buffer protocol.\n",
        "       byteorder\n",
        "         The byte order used to represent the integer.  If byteorder is 'big',\n",
        "         the most significant byte is at the beginning of the byte array.  If\n",
        "         byteorder is 'little', the most significant byte is at the end of the\n",
        "         byte array.  To request the native byte order of the host system, use\n",
        "         `sys.byteorder' as the byte order value.  Default is to use 'big'.\n",
        "       signed\n",
        "         Indicates whether two's complement is used to represent the integer"
      ],
      "metadata": {
        "id": "yz6rFmXa3zeY"
      }
    },
    {
      "cell_type": "code",
      "source": [
        "(78).from_bytes(b'N',byteorder='big',signed=False)"
      ],
      "metadata": {
        "colab": {
          "base_uri": "https://localhost:8080/"
        },
        "id": "vG7wRsFj4Giv",
        "outputId": "b515adbb-801e-48a6-a343-b6e56c199b2f"
      },
      "execution_count": null,
      "outputs": [
        {
          "output_type": "execute_result",
          "data": {
            "text/plain": [
              "78"
            ]
          },
          "metadata": {},
          "execution_count": 70
        }
      ]
    },
    {
      "cell_type": "markdown",
      "source": [
        "\n",
        "# denominator\n",
        "\n",
        "the denominator of a rational number in lowest terms\n",
        "   \n",
        "   # imag\n",
        "       the imaginary part of a complex number\n",
        "   \n",
        "   # numerator\n",
        "       the numerator of a rational number in lowest terms\n",
        "   \n",
        "   # real\n",
        "       the real part of a complex number"
      ],
      "metadata": {
        "id": "wegpUlei4jJb"
      }
    },
    {
      "cell_type": "code",
      "source": [
        "x = 12\n",
        "print(x.denominator)"
      ],
      "metadata": {
        "colab": {
          "base_uri": "https://localhost:8080/"
        },
        "id": "9vW0WYjT45Nt",
        "outputId": "c044a646-3d7f-4812-fded-2ccb75c856e2"
      },
      "execution_count": null,
      "outputs": [
        {
          "output_type": "stream",
          "name": "stdout",
          "text": [
            "1\n"
          ]
        }
      ]
    },
    {
      "cell_type": "code",
      "source": [
        "z = 3 + 5j\n",
        "print(z.imag)"
      ],
      "metadata": {
        "colab": {
          "base_uri": "https://localhost:8080/"
        },
        "id": "A5a2OSht55Ja",
        "outputId": "b3665dd5-be0c-4e8d-f410-918e3d260bda"
      },
      "execution_count": null,
      "outputs": [
        {
          "output_type": "stream",
          "name": "stdout",
          "text": [
            "5.0\n"
          ]
        }
      ]
    },
    {
      "cell_type": "code",
      "source": [
        "z = 4 + 5j\n",
        "print(z.real)"
      ],
      "metadata": {
        "colab": {
          "base_uri": "https://localhost:8080/"
        },
        "id": "BQd-Jf1O5-f1",
        "outputId": "a8e769aa-59c7-409f-994c-ccacc6229fa0"
      },
      "execution_count": null,
      "outputs": [
        {
          "output_type": "stream",
          "name": "stdout",
          "text": [
            "4.0\n"
          ]
        }
      ]
    }
  ]
}